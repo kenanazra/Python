{
 "cells": [
  {
   "cell_type": "code",
   "execution_count": 1,
   "id": "055ff9df-e773-4759-a292-1af909c7892e",
   "metadata": {},
   "outputs": [],
   "source": [
    "import requests"
   ]
  },
  {
   "cell_type": "code",
   "execution_count": 3,
   "id": "ce29cb0b-b4d3-40ae-9c5c-319eebb72ece",
   "metadata": {},
   "outputs": [
    {
     "name": "stdout",
     "output_type": "stream",
     "text": [
      "<Response [200]>\n"
     ]
    }
   ],
   "source": [
    "r=requests.get(\"https://xkcd.com/353/\")\n",
    "print(r)"
   ]
  },
  {
   "cell_type": "code",
   "execution_count": 5,
   "id": "28758461-12e6-49a4-86d8-b6cb459b0a95",
   "metadata": {},
   "outputs": [
    {
     "name": "stdout",
     "output_type": "stream",
     "text": [
      "200\n"
     ]
    }
   ],
   "source": [
    "print(r.status_code)"
   ]
  },
  {
   "cell_type": "code",
   "execution_count": 7,
   "id": "a0600b3d-5e8d-4722-8c3f-4b310f0f32b9",
   "metadata": {},
   "outputs": [
    {
     "name": "stdout",
     "output_type": "stream",
     "text": [
      "['__attrs__', '__bool__', '__class__', '__delattr__', '__dict__', '__dir__', '__doc__', '__enter__', '__eq__', '__exit__', '__format__', '__ge__', '__getattribute__', '__getstate__', '__gt__', '__hash__', '__init__', '__init_subclass__', '__iter__', '__le__', '__lt__', '__module__', '__ne__', '__new__', '__nonzero__', '__reduce__', '__reduce_ex__', '__repr__', '__setattr__', '__setstate__', '__sizeof__', '__str__', '__subclasshook__', '__weakref__', '_content', '_content_consumed', '_next', 'apparent_encoding', 'close', 'connection', 'content', 'cookies', 'elapsed', 'encoding', 'headers', 'history', 'is_permanent_redirect', 'is_redirect', 'iter_content', 'iter_lines', 'json', 'links', 'next', 'ok', 'raise_for_status', 'raw', 'reason', 'request', 'status_code', 'text', 'url']\n"
     ]
    }
   ],
   "source": [
    "print(dir(r))"
   ]
  },
  {
   "cell_type": "code",
   "execution_count": 9,
   "id": "6d2ed151-c880-4a4c-8234-35ef994d042c",
   "metadata": {},
   "outputs": [
    {
     "name": "stdout",
     "output_type": "stream",
     "text": [
      "Help on Response in module requests.models object:\n",
      "\n",
      "class Response(builtins.object)\n",
      " |  The :class:`Response <Response>` object, which contains a\n",
      " |  server's response to an HTTP request.\n",
      " |\n",
      " |  Methods defined here:\n",
      " |\n",
      " |  __bool__(self)\n",
      " |      Returns True if :attr:`status_code` is less than 400.\n",
      " |\n",
      " |      This attribute checks if the status code of the response is between\n",
      " |      400 and 600 to see if there was a client error or a server error. If\n",
      " |      the status code, is between 200 and 400, this will return True. This\n",
      " |      is **not** a check to see if the response code is ``200 OK``.\n",
      " |\n",
      " |  __enter__(self)\n",
      " |\n",
      " |  __exit__(self, *args)\n",
      " |\n",
      " |  __getstate__(self)\n",
      " |      Helper for pickle.\n",
      " |\n",
      " |  __init__(self)\n",
      " |      Initialize self.  See help(type(self)) for accurate signature.\n",
      " |\n",
      " |  __iter__(self)\n",
      " |      Allows you to use a response as an iterator.\n",
      " |\n",
      " |  __nonzero__(self)\n",
      " |      Returns True if :attr:`status_code` is less than 400.\n",
      " |\n",
      " |      This attribute checks if the status code of the response is between\n",
      " |      400 and 600 to see if there was a client error or a server error. If\n",
      " |      the status code, is between 200 and 400, this will return True. This\n",
      " |      is **not** a check to see if the response code is ``200 OK``.\n",
      " |\n",
      " |  __repr__(self)\n",
      " |      Return repr(self).\n",
      " |\n",
      " |  __setstate__(self, state)\n",
      " |\n",
      " |  close(self)\n",
      " |      Releases the connection back to the pool. Once this method has been\n",
      " |      called the underlying ``raw`` object must not be accessed again.\n",
      " |\n",
      " |      *Note: Should not normally need to be called explicitly.*\n",
      " |\n",
      " |  iter_content(self, chunk_size=1, decode_unicode=False)\n",
      " |      Iterates over the response data.  When stream=True is set on the\n",
      " |      request, this avoids reading the content at once into memory for\n",
      " |      large responses.  The chunk size is the number of bytes it should\n",
      " |      read into memory.  This is not necessarily the length of each item\n",
      " |      returned as decoding can take place.\n",
      " |\n",
      " |      chunk_size must be of type int or None. A value of None will\n",
      " |      function differently depending on the value of `stream`.\n",
      " |      stream=True will read data as it arrives in whatever size the\n",
      " |      chunks are received. If stream=False, data is returned as\n",
      " |      a single chunk.\n",
      " |\n",
      " |      If decode_unicode is True, content will be decoded using the best\n",
      " |      available encoding based on the response.\n",
      " |\n",
      " |  iter_lines(self, chunk_size=512, decode_unicode=False, delimiter=None)\n",
      " |      Iterates over the response data, one line at a time.  When\n",
      " |      stream=True is set on the request, this avoids reading the\n",
      " |      content at once into memory for large responses.\n",
      " |\n",
      " |      .. note:: This method is not reentrant safe.\n",
      " |\n",
      " |  json(self, **kwargs)\n",
      " |      Returns the json-encoded content of a response, if any.\n",
      " |\n",
      " |      :param \\*\\*kwargs: Optional arguments that ``json.loads`` takes.\n",
      " |      :raises requests.exceptions.JSONDecodeError: If the response body does not\n",
      " |          contain valid json.\n",
      " |\n",
      " |  raise_for_status(self)\n",
      " |      Raises :class:`HTTPError`, if one occurred.\n",
      " |\n",
      " |  ----------------------------------------------------------------------\n",
      " |  Readonly properties defined here:\n",
      " |\n",
      " |  apparent_encoding\n",
      " |      The apparent encoding, provided by the charset_normalizer or chardet libraries.\n",
      " |\n",
      " |  content\n",
      " |      Content of the response, in bytes.\n",
      " |\n",
      " |  is_permanent_redirect\n",
      " |      True if this Response one of the permanent versions of redirect.\n",
      " |\n",
      " |  is_redirect\n",
      " |      True if this Response is a well-formed HTTP redirect that could have\n",
      " |      been processed automatically (by :meth:`Session.resolve_redirects`).\n",
      " |\n",
      " |  links\n",
      " |      Returns the parsed header links of the response, if any.\n",
      " |\n",
      " |  next\n",
      " |      Returns a PreparedRequest for the next request in a redirect chain, if there is one.\n",
      " |\n",
      " |  ok\n",
      " |      Returns True if :attr:`status_code` is less than 400, False if not.\n",
      " |\n",
      " |      This attribute checks if the status code of the response is between\n",
      " |      400 and 600 to see if there was a client error or a server error. If\n",
      " |      the status code is between 200 and 400, this will return True. This\n",
      " |      is **not** a check to see if the response code is ``200 OK``.\n",
      " |\n",
      " |  text\n",
      " |      Content of the response, in unicode.\n",
      " |\n",
      " |      If Response.encoding is None, encoding will be guessed using\n",
      " |      ``charset_normalizer`` or ``chardet``.\n",
      " |\n",
      " |      The encoding of the response content is determined based solely on HTTP\n",
      " |      headers, following RFC 2616 to the letter. If you can take advantage of\n",
      " |      non-HTTP knowledge to make a better guess at the encoding, you should\n",
      " |      set ``r.encoding`` appropriately before accessing this property.\n",
      " |\n",
      " |  ----------------------------------------------------------------------\n",
      " |  Data descriptors defined here:\n",
      " |\n",
      " |  __dict__\n",
      " |      dictionary for instance variables\n",
      " |\n",
      " |  __weakref__\n",
      " |      list of weak references to the object\n",
      " |\n",
      " |  ----------------------------------------------------------------------\n",
      " |  Data and other attributes defined here:\n",
      " |\n",
      " |  __attrs__ = ['_content', 'status_code', 'headers', 'url', 'history', '...\n",
      "\n",
      "None\n"
     ]
    }
   ],
   "source": [
    "print(help(r)) #The difference between content and text"
   ]
  },
  {
   "cell_type": "code",
   "execution_count": 11,
   "id": "93867900-0e16-4ec5-b0cb-1f4c7413bcf8",
   "metadata": {},
   "outputs": [
    {
     "name": "stdout",
     "output_type": "stream",
     "text": [
      "<!DOCTYPE html>\n",
      "<html>\n",
      "<head>\n",
      "<link rel=\"stylesheet\" type=\"text/css\" href=\"/s/7d94e0.css\" title=\"Default\"/>\n",
      "<title>xkcd: Python</title>\n",
      "<meta http-equiv=\"X-UA-Compatible\" content=\"IE=edge\"/>\n",
      "<link rel=\"shortcut icon\" href=\"/s/919f27.ico\" type=\"image/x-icon\"/>\n",
      "<link rel=\"icon\" href=\"/s/919f27.ico\" type=\"image/x-icon\"/>\n",
      "<link rel=\"alternate\" type=\"application/atom+xml\" title=\"Atom 1.0\" href=\"/atom.xml\"/>\n",
      "<link rel=\"alternate\" type=\"application/rss+xml\" title=\"RSS 2.0\" href=\"/rss.xml\"/>\n",
      "<!-- <script type=\"text/javascript\" src=\"/s/b66ed7.js\" async></script>\n",
      "<script type=\"text/javascript\" src=\"/s/1b9456.js\" async></script> -->\n",
      "\n",
      "<meta property=\"og:site_name\" content=\"xkcd\">\n",
      "\n",
      "<meta property=\"og:title\" content=\"Python\">\n",
      "<meta property=\"og:url\" content=\"https://xkcd.com/353/\">\n",
      "<meta property=\"og:image\" content=\"https://imgs.xkcd.com/comics/python.png\">\n",
      "<meta name=\"twitter:card\" content=\"summary_large_image\">\n",
      "\n",
      "</head>\n",
      "<body>\n",
      "<div id=\"topContainer\">\n",
      "<div id=\"topLeft\">\n",
      "<ul>\n",
      "<li><a href=\"/archive\">Archive</a></li>\n",
      "<li><a href=\"https://what-if.xkcd.com\">What If?</a></li>\n",
      "<li><a rel=\"author\" href=\"/about\">About</a></li>\n",
      "<li><a href=\"/atom.xml\">Feed</a>&bull;<a href=\"/newsletter/\">Email</a></li>\n",
      "<li><a href=\"https://twitter.com/xkcd/\">TW</a>&bull;<a href=\"https://www.facebook.com/TheXKCD/\">FB</a>&bull;<a href=\"https://www.instagram.com/xkcd/\">IG</a></li>\n",
      "<li><a href=\"/books/\">-Books-</a></li>\n",
      "<li><a href=\"/what-if-2/\">What If? 2</a></li>\n",
      "<li><a href=\"/what-if/\">WI?</a>&bull;<a href=\"/thing-explainer/\">TE</a>&bull;<a href=\"/how-to/\">HT</a></li>\n",
      "</ul>\n",
      "</div>\n",
      "<div id=\"topRight\">\n",
      "<div id=\"masthead\">\n",
      "<span><a href=\"/\"><img src=\"/s/0b7742.png\" alt=\"xkcd.com logo\" height=\"83\" width=\"185\"/></a></span>\n",
      "<span id=\"slogan\">A webcomic of romance,<br/> sarcasm, math, and language.</span>\n",
      "</div>\n",
      "<div id=\"news\">\n",
      "<div id=\"xkcdNews\">\n",
      "<a href=\"https://xkcd.com/what-if/\">Special 10th anniversary edition of WHAT IF?</a>—revised and annotated with brand-new illustrations and answers to important questions you never thought to ask—out now. Order it <a href=\"https://bit.ly/WhatIf10th\">here</a>!\n",
      "</div>\n",
      "\n",
      "</div>\n",
      "</div>\n",
      "<div id=\"bgLeft\" class=\"bg box\"></div>\n",
      "<div id=\"bgRight\" class=\"bg box\"></div>\n",
      "</div>\n",
      "<div id=\"middleContainer\" class=\"box\">\n",
      "\n",
      "<div id=\"ctitle\">Python</div>\n",
      "<ul class=\"comicNav\">\n",
      "<li><a href=\"/1/\">|&lt;</a></li>\n",
      "<li><a rel=\"prev\" href=\"/352/\" accesskey=\"p\">&lt; Prev</a></li>\n",
      "<li><a href=\"//c.xkcd.com/random/comic/\">Random</a></li>\n",
      "<li><a rel=\"next\" href=\"/354/\" accesskey=\"n\">Next &gt;</a></li>\n",
      "<li><a href=\"/\">&gt;|</a></li>\n",
      "</ul>\n",
      "<div id=\"comic\">\n",
      "<img src=\"//imgs.xkcd.com/comics/python.png\" title=\"I wrote 20 short programs in Python yesterday.  It was wonderful.  Perl, I&#39;m leaving you.\" alt=\"Python\"  style=\"image-orientation:none\" />\n",
      "</div>\n",
      "<ul class=\"comicNav\">\n",
      "<li><a href=\"/1/\">|&lt;</a></li>\n",
      "<li><a rel=\"prev\" href=\"/352/\" accesskey=\"p\">&lt; Prev</a></li>\n",
      "<li><a href=\"//c.xkcd.com/random/comic/\">Random</a></li>\n",
      "<li><a rel=\"next\" href=\"/354/\" accesskey=\"n\">Next &gt;</a></li>\n",
      "<li><a href=\"/\">&gt;|</a></li>\n",
      "</ul>\n",
      "<br />\n",
      "Permanent link to this comic: <a href=\"https://xkcd.com/353\">https://xkcd.com/353/</a><br />\n",
      "Image URL (for hotlinking/embedding): <a href= \"https://imgs.xkcd.com/comics/python.png\">https://imgs.xkcd.com/comics/python.png</a>\n",
      "\n",
      "<div id=\"transcript\" style=\"display: none\">[[ Guy 1 is talking to Guy 2, who is floating in the sky ]]\n",
      "Guy 1: You&#39;re flying! How?\n",
      "Guy 2: Python!\n",
      "Guy 2: I learned it last night! Everything is so simple!\n",
      "Guy 2: Hello world is just &#39;print &quot;Hello, World!&quot; &#39;\n",
      "Guy 1: I dunno... Dynamic typing? Whitespace?\n",
      "Guy 2: Come join us! Programming is fun again! It&#39;s a whole new world up here!\n",
      "Guy 1: But how are you flying?\n",
      "Guy 2: I just typed &#39;import antigravity&#39;\n",
      "Guy 1: That&#39;s it?\n",
      "Guy 2: ...I also sampled everything in the medicine cabinet for comparison.\n",
      "Guy 2: But i think this is the python.\n",
      "{{ I wrote 20 short programs in Python yesterday.  It was wonderful.  Perl, I&#39;m leaving you. }}</div>\n",
      "</div>\n",
      "<div id=\"bottom\" class=\"box\">\n",
      "<img src=\"//imgs.xkcd.com/s/a899e84.jpg\" width=\"520\" height=\"100\" alt=\"Selected Comics\" usemap=\"#comicmap\"/>\n",
      "<map id=\"comicmap\" name=\"comicmap\">\n",
      "<area shape=\"rect\" coords=\"0,0,100,100\" href=\"/150/\" alt=\"Grownups\"/>\n",
      "<area shape=\"rect\" coords=\"104,0,204,100\" href=\"/730/\" alt=\"Circuit Diagram\"/>\n",
      "<area shape=\"rect\" coords=\"208,0,308,100\" href=\"/162/\" alt=\"Angular Momentum\"/>\n",
      "<area shape=\"rect\" coords=\"312,0,412,100\" href=\"/688/\" alt=\"Self-Description\"/>\n",
      "<area shape=\"rect\" coords=\"416,0,520,100\" href=\"/556/\" alt=\"Alternative Energy Revolution\"/>\n",
      "</map>\n",
      "<br />\n",
      "<a href=\"//xkcd.com/1732/\"><img border=0 src=\"//imgs.xkcd.com/s/temperature.png\" width=\"520\" height=\"100\" alt=\"Earth temperature timeline\"></a>\n",
      "<br />\n",
      "<div>\n",
      "<!--\n",
      "Search comic titles and transcripts:\n",
      "<script type=\"text/javascript\" src=\"//www.google.com/jsapi\"></script>\n",
      "<script type=\"text/javascript\">google.load('search', '1');google.setOnLoadCallback(function() {google.search.CustomSearchControl.attachAutoCompletion('012652707207066138651:zudjtuwe28q',document.getElementById('q'),'cse-search-box');});</script>\n",
      "<form action=\"//www.google.com/cse\" id=\"cse-search-box\">\n",
      "<div>\n",
      "<input type=\"hidden\" name=\"cx\" value=\"012652707207066138651:zudjtuwe28q\"/>\n",
      "<input type=\"hidden\" name=\"ie\" value=\"UTF-8\"/>\n",
      "<input type=\"text\" name=\"q\" id=\"q\" size=\"31\"/>\n",
      "<input type=\"submit\" name=\"sa\" value=\"Search\"/>\n",
      "</div>\n",
      "</form>\n",
      "<script type=\"text/javascript\" src=\"//www.google.com/cse/brand?form=cse-search-box&amp;lang=en\"></script>\n",
      "-->\n",
      "<a href=\"/rss.xml\">RSS Feed</a> - <a href=\"/atom.xml\">Atom Feed</a> - <a href=\"/newsletter/\">Email</a>\n",
      "</div>\n",
      "<br />\n",
      "<div id=\"comicLinks\">\n",
      "Comics I enjoy:<br/>\n",
      "        <a href=\"http://threewordphrase.com/\">Three Word Phrase</a>,\n",
      "        <a href=\"https://www.smbc-comics.com/\">SMBC</a>,\n",
      "        <a href=\"https://www.qwantz.com\">Dinosaur Comics</a>,\n",
      "        <a href=\"https://oglaf.com/\">Oglaf</a> (nsfw),\n",
      "        <a href=\"https://www.asofterworld.com\">A Softer World</a>,\n",
      "        <a href=\"https://buttersafe.com/\">Buttersafe</a>,\n",
      "        <a href=\"https://pbfcomics.com/\">Perry Bible Fellowship</a>,\n",
      "        <a href=\"https://questionablecontent.net/\">Questionable Content</a>,\n",
      "        <a href=\"http://www.buttercupfestival.com/\">Buttercup Festival</a>,\n",
      "        <a href=\"https://www.homestuck.com/\">Homestuck</a>,\n",
      "\t<a href=\"https://www.jspowerhour.com/\">Junior Scientist Power Hour</a>\n",
      "</div>\n",
      "<br />\n",
      "<div id=\"comicLinks\">\n",
      "Other things:<br/>\n",
      "        <a href=\"https://medium.com/civic-tech-thoughts-from-joshdata/so-you-want-to-reform-democracy-7f3b1ef10597\">Tips on technology and government</a>,<br /> \n",
      "        <a href=\"https://www.nytimes.com/interactive/2017/climate/what-is-climate-change.html\">Climate FAQ</a>,\n",
      "\t<a href=\"https://twitter.com/KHayhoe\">Katharine Hayhoe</a>\n",
      "</div>\n",
      "<br />\n",
      "<center>\n",
      "<div id=\"footnote\" style=\"width:70%\">xkcd.com is best viewed with Netscape Navigator 4.0 or below on a Pentium 3&plusmn;1 emulated in Javascript on an Apple IIGS<br />at a screen resolution of 1024x1. Please enable your ad blockers, disable high-heat drying, and remove your device<br />from Airplane Mode and set it to Boat Mode. For security reasons, please leave caps lock on while browsing.</div>\n",
      "</center>\n",
      "<div id=\"licenseText\">\n",
      "<p>\n",
      "This work is licensed under a\n",
      "<a href=\"https://creativecommons.org/licenses/by-nc/2.5/\">Creative Commons Attribution-NonCommercial 2.5 License</a>.\n",
      "</p><p>\n",
      "This means you're free to copy and share these comics (but not to sell them). <a rel=\"license\" href=\"/license.html\">More details</a>.</p>\n",
      "</div>\n",
      "</div>\n",
      "</body>\n",
      "<!-- Layout by Ian Clasbey, davean, and chromakode -->\n",
      "</html>\n",
      "\n",
      "\n"
     ]
    }
   ],
   "source": [
    "print(r.text) #Get an html output. If you want to parse it use Beautifulsoap library"
   ]
  },
  {
   "cell_type": "code",
   "execution_count": 13,
   "id": "67ef54b6-7ea1-4b5e-8c69-12288720b1f9",
   "metadata": {},
   "outputs": [
    {
     "name": "stdout",
     "output_type": "stream",
     "text": [
      "<Response [200]>\n"
     ]
    }
   ],
   "source": [
    "image=requests.get(\" https://imgs.xkcd.com/comics/python.png\")\n",
    "print(image)"
   ]
  },
  {
   "cell_type": "code",
   "execution_count": 29,
   "id": "b78f2550-724f-46fb-8df0-87874d3845d8",
   "metadata": {},
   "outputs": [],
   "source": [
    "#print(image.content)"
   ]
  },
  {
   "cell_type": "code",
   "execution_count": 17,
   "id": "36093b2f-98d3-46c0-b4ac-d3b08accb121",
   "metadata": {},
   "outputs": [],
   "source": [
    "with open('comic.png', 'wb') as f:\n",
    "    f.write(image.content)"
   ]
  },
  {
   "cell_type": "code",
   "execution_count": 19,
   "id": "4882c628-ffb1-4bb6-8c3f-3f0ccb4e7ece",
   "metadata": {},
   "outputs": [
    {
     "name": "stdout",
     "output_type": "stream",
     "text": [
      "200\n"
     ]
    }
   ],
   "source": [
    "print(image.status_code)"
   ]
  },
  {
   "cell_type": "code",
   "execution_count": 21,
   "id": "ca0bfa6c-7f04-4406-a7e6-052513048dba",
   "metadata": {},
   "outputs": [
    {
     "name": "stdout",
     "output_type": "stream",
     "text": [
      "True\n"
     ]
    }
   ],
   "source": [
    "print(image.ok)"
   ]
  },
  {
   "cell_type": "code",
   "execution_count": 23,
   "id": "1ce30dae-1a0b-4f39-8b52-88f8f1dd7f6d",
   "metadata": {},
   "outputs": [
    {
     "name": "stdout",
     "output_type": "stream",
     "text": [
      "{'Connection': 'keep-alive', 'Content-Length': '2731', 'Server': 'nginx', 'Content-Type': 'text/html; charset=UTF-8', 'ETag': '\"678f0a8f-1dd7\"', 'Expires': 'Wed, 22 Jan 2025 13:22:16 GMT', 'Cache-Control': 'max-age=300', 'Content-Encoding': 'br', 'Accept-Ranges': 'bytes', 'Age': '0', 'Date': 'Wed, 22 Jan 2025 19:51:48 GMT', 'Via': '1.1 varnish', 'X-Served-By': 'cache-fra-eddf8230029-FRA', 'X-Cache': 'HIT', 'X-Cache-Hits': '0', 'X-Timer': 'S1737575508.083882,VS0,VE288', 'Vary': 'Accept-Encoding'}\n"
     ]
    }
   ],
   "source": [
    "print(r.headers)"
   ]
  },
  {
   "cell_type": "code",
   "execution_count": 25,
   "id": "a2cc8997-4bf3-4b07-a466-a3bba702b0a4",
   "metadata": {},
   "outputs": [
    {
     "name": "stdout",
     "output_type": "stream",
     "text": [
      "{'Connection': 'keep-alive', 'Content-Length': '90835', 'Server': 'nginx', 'Content-Type': 'image/png', 'ETag': '\"4b66d225-162d3\"', 'Expires': 'Tue, 21 Jan 2025 03:22:16 GMT', 'Cache-Control': 'max-age=300', 'Accept-Ranges': 'bytes', 'Age': '0', 'Date': 'Wed, 22 Jan 2025 19:53:39 GMT', 'Via': '1.1 varnish', 'X-Served-By': 'cache-fra-eddf8230040-FRA', 'X-Cache': 'HIT', 'X-Cache-Hits': '0', 'X-Timer': 'S1737575619.220471,VS0,VE25'}\n"
     ]
    }
   ],
   "source": [
    "print(image.headers)"
   ]
  },
  {
   "cell_type": "markdown",
   "id": "7b7ea385-7549-4e03-adca-b095db3e150a",
   "metadata": {},
   "source": [
    "### check the ---- httpbin.org ---- website for different request methods: get- post-put-delete"
   ]
  },
  {
   "cell_type": "code",
   "execution_count": 47,
   "id": "fd975366-5bc1-4acc-ba8b-585a67232056",
   "metadata": {},
   "outputs": [],
   "source": [
    "r2=requests.get(\"https://httpbin.org/get?page=2&count=25\") #Prone to mistakes!"
   ]
  },
  {
   "cell_type": "code",
   "execution_count": 49,
   "id": "ee8e13bd-503a-4719-8273-592e0dd06401",
   "metadata": {},
   "outputs": [],
   "source": [
    "payload={'page':2, 'count':25}\n",
    "r2=requests.get(\"https://httpbin.org/get\", params=payload)\n",
    "#print(payload)"
   ]
  },
  {
   "cell_type": "code",
   "execution_count": 51,
   "id": "9be48e3e-0371-41ac-9c8f-84b2e6dcd4a5",
   "metadata": {},
   "outputs": [
    {
     "name": "stdout",
     "output_type": "stream",
     "text": [
      "https://httpbin.org/get?page=2&count=25\n"
     ]
    }
   ],
   "source": [
    "print(r2.url)"
   ]
  },
  {
   "cell_type": "code",
   "execution_count": 9,
   "id": "8e435da4-a25f-4efd-97ae-15d22d67d724",
   "metadata": {},
   "outputs": [
    {
     "name": "stdout",
     "output_type": "stream",
     "text": [
      "True\n"
     ]
    }
   ],
   "source": [
    "print(r2.ok)"
   ]
  },
  {
   "cell_type": "code",
   "execution_count": 45,
   "id": "38f1ca2a-529d-4b34-9550-36a2de0db2bb",
   "metadata": {},
   "outputs": [
    {
     "name": "stdout",
     "output_type": "stream",
     "text": [
      "{\n",
      "  \"args\": {\n",
      "    \"count\": \"25\", \n",
      "    \"page\": \"2\"\n",
      "  }, \n",
      "  \"headers\": {\n",
      "    \"Accept\": \"*/*\", \n",
      "    \"Accept-Encoding\": \"gzip, deflate, br, zstd\", \n",
      "    \"Host\": \"httpbin.org\", \n",
      "    \"User-Agent\": \"python-requests/2.32.3\", \n",
      "    \"X-Amzn-Trace-Id\": \"Root=1-679157fe-5558cf9c6d411cee493739b6\"\n",
      "  }, \n",
      "  \"origin\": \"178.19.237.0\", \n",
      "  \"url\": \"https://httpbin.org/get?page=2&count=25\"\n",
      "}\n",
      "\n"
     ]
    }
   ],
   "source": [
    "print(r2.text)"
   ]
  },
  {
   "cell_type": "code",
   "execution_count": 57,
   "id": "691fa8c5-aa4c-4d81-807a-57d7c3cb1340",
   "metadata": {},
   "outputs": [],
   "source": [
    "payload={'username':'rasha', 'password':'testing'}\n",
    "r3=requests.post(\"https://httpbin.org/post\", data=payload) #form data input"
   ]
  },
  {
   "cell_type": "code",
   "execution_count": 59,
   "id": "6fd274e2-b455-46ad-907c-d77cd9f8737c",
   "metadata": {},
   "outputs": [
    {
     "name": "stdout",
     "output_type": "stream",
     "text": [
      "{\n",
      "  \"args\": {}, \n",
      "  \"data\": \"\", \n",
      "  \"files\": {}, \n",
      "  \"form\": {\n",
      "    \"password\": \"testing\", \n",
      "    \"username\": \"rasha\"\n",
      "  }, \n",
      "  \"headers\": {\n",
      "    \"Accept\": \"*/*\", \n",
      "    \"Accept-Encoding\": \"gzip, deflate, br, zstd\", \n",
      "    \"Content-Length\": \"31\", \n",
      "    \"Content-Type\": \"application/x-www-form-urlencoded\", \n",
      "    \"Host\": \"httpbin.org\", \n",
      "    \"User-Agent\": \"python-requests/2.32.3\", \n",
      "    \"X-Amzn-Trace-Id\": \"Root=1-67915a53-5f80a7bf1a9a905b0ab7606c\"\n",
      "  }, \n",
      "  \"json\": null, \n",
      "  \"origin\": \"178.19.237.0\", \n",
      "  \"url\": \"https://httpbin.org/post\"\n",
      "}\n",
      "\n"
     ]
    }
   ],
   "source": [
    "print(r3.text)"
   ]
  },
  {
   "cell_type": "code",
   "execution_count": 61,
   "id": "d8a5ecad-883c-40ba-916d-10706399becf",
   "metadata": {},
   "outputs": [
    {
     "name": "stdout",
     "output_type": "stream",
     "text": [
      "{'args': {}, 'data': '', 'files': {}, 'form': {'password': 'testing', 'username': 'rasha'}, 'headers': {'Accept': '*/*', 'Accept-Encoding': 'gzip, deflate, br, zstd', 'Content-Length': '31', 'Content-Type': 'application/x-www-form-urlencoded', 'Host': 'httpbin.org', 'User-Agent': 'python-requests/2.32.3', 'X-Amzn-Trace-Id': 'Root=1-67915a53-5f80a7bf1a9a905b0ab7606c'}, 'json': None, 'origin': '178.19.237.0', 'url': 'https://httpbin.org/post'}\n"
     ]
    }
   ],
   "source": [
    "print(r3.json()) #prints a python dictonary of json file "
   ]
  },
  {
   "cell_type": "code",
   "execution_count": 63,
   "id": "f880e81a-270a-4b1c-b368-2b56474bcae3",
   "metadata": {},
   "outputs": [
    {
     "name": "stdout",
     "output_type": "stream",
     "text": [
      "{'password': 'testing', 'username': 'rasha'}\n"
     ]
    }
   ],
   "source": [
    "r_dict=r3.json()\n",
    "print(r_dict['form'])"
   ]
  },
  {
   "cell_type": "code",
   "execution_count": 65,
   "id": "2c25f174-1aa0-421a-bea4-c0165a5e0af2",
   "metadata": {},
   "outputs": [
    {
     "name": "stdout",
     "output_type": "stream",
     "text": [
      "<!DOCTYPE html>\n",
      "<html lang=\"en\">\n",
      "    <head>\n",
      "        <!-- Google Tag Manager -->\n",
      "        <script>\n",
      "            ;(function (w, d, s, l, i) {\n",
      "                w[l] = w[l] || []\n",
      "                w[l].push({\n",
      "                    'gtm.start': new Date().getTime(),\n",
      "                    event: 'gtm.js',\n",
      "                })\n",
      "                var f = d.getElementsByTagName(s)[0],\n",
      "                    j = d.createElement(s),\n",
      "                    dl = l != 'dataLayer' ? '&l=' + l : ''\n",
      "                j.async = true\n",
      "                j.src = 'https://www.googletagmanager.com/gtm.js?id=' + i + dl\n",
      "                f.parentNode.insertBefore(j, f)\n",
      "            })(window, document, 'script', 'dataLayer', 'GTM-KB622KF')\n",
      "        </script>\n",
      "        <!-- End Google Tag Manager -->\n",
      "        <script src=\"https://js.stripe.com/v3/\"></script>\n",
      "        <meta charset=\"utf-8\" />\n",
      "        <meta\n",
      "            name=\"viewport\"\n",
      "            content=\"width=device-width, initial-scale=1.0, maximum-scale=1.0\"\n",
      "        />\n",
      "        <meta\n",
      "            name=\"description\"\n",
      "            content=\"A hosted REST-API ready to respond to your AJAX requests\"\n",
      "        />\n",
      "        <title>\n",
      "            Reqres - A hosted REST-API ready to respond to your AJAX requests\n",
      "        </title>\n",
      "        <link\n",
      "            href=\"//maxcdn.bootstrapcdn.com/font-awesome/4.2.0/css/font-awesome.min.css\"\n",
      "            rel=\"stylesheet\"\n",
      "        />\n",
      "\n",
      "        <link rel=\"stylesheet\" href=\"/css/app.css\" />\n",
      "        <script\n",
      "            type=\"text/javascript\"\n",
      "            src=\"//m.servedby-buysellads.com/monetization.custom.js\"\n",
      "        ></script>\n",
      "    </head>\n",
      "    <body>\n",
      "        <div class=\"header-content\">\n",
      "            <header class=\"main-header\">\n",
      "                <section class=\"wrap\">\n",
      "                    <h1 class=\"logo\">\n",
      "                        <a href=\"/\"><img src=\"/img/logo.png\" alt=\"\" /></a>\n",
      "                    </h1>\n",
      "                </section>\n",
      "            </header>\n",
      "            <main class=\"the-sell\">\n",
      "                <div class=\"wrap\">\n",
      "                    <h2 class=\"tagline\">\n",
      "                        Test your front-end against a real API\n",
      "                    </h2>\n",
      "                    <section class=\"key-sells\">\n",
      "                        <div class=\"sell\">\n",
      "                            <div class=\"v-center\">\n",
      "                                <h3>Fake data</h3>\n",
      "                                <p>\n",
      "                                    No more tedious sample data creation, we've\n",
      "                                    got it covered.\n",
      "                                </p>\n",
      "                            </div>\n",
      "                            <i class=\"fa fa-cloud-download\"></i>\n",
      "                        </div>\n",
      "                        <div class=\"sell\">\n",
      "                            <div class=\"v-center\">\n",
      "                                <h3>Real responses</h3>\n",
      "                                <p>\n",
      "                                    Develop with real response codes. GET, POST,\n",
      "                                    PUT &amp; DELETE supported.\n",
      "                                </p>\n",
      "                            </div>\n",
      "                            <i class=\"fa fa-code\"></i>\n",
      "                        </div>\n",
      "                        <div class=\"sell\">\n",
      "                            <div class=\"v-center\">\n",
      "                                <h3>Always-on</h3>\n",
      "                                <p>\n",
      "                                    24/7 <strong><em>free</em></strong> access\n",
      "                                    in your development phases. Go nuts.\n",
      "                                </p>\n",
      "                            </div>\n",
      "                            <i class=\"fa fa-toggle-on\"></i>\n",
      "                        </div>\n",
      "                    </section>\n",
      "                    <h2 class=\"tagline\">\n",
      "                        A hosted REST-API ready to respond to your AJAX\n",
      "                        requests.\n",
      "                    </h2>\n",
      "                    <div class=\"t-center main-arrow\">\n",
      "                        <i class=\"fa fa-arrow-circle-down\"></i>\n",
      "                    </div>\n",
      "                    <div id=\"cc-ad\" class=\"feature-ad\">\n",
      "                        <a href=\"https://contentcaddy.io?utm_source&#x3D;reqres&amp;utm_medium&#x3D;banner&amp;utm_campaign&#x3D;referral\">\n",
      "                            <img src=\"/img/cc-ad-reqres.jpg\" alt=\"Ad\" />\n",
      "                        </a>\n",
      "                    </div>\n",
      "                    <script\n",
      "                        async\n",
      "                        type=\"text/javascript\"\n",
      "                        src=\"//cdn.carbonads.com/carbon.js?serve=CE7D6K3E&placement=reqresin\"\n",
      "                        id=\"_carbonads_js\"\n",
      "                    ></script>\n",
      "                </div>\n",
      "            </main>\n",
      "        </div>\n",
      "        <div class=\"container\"><div class=\"home-content\">\n",
      "    <div class=\"wrap\">\n",
      "        <h2 class=\"t-center heading\">Give it a try</h2>\n",
      "        <div class=\"t-center\">\n",
      "            <button style=\"float: none\">\n",
      "                <a style=\"text-decoration: none\" href=\"#support-heading\"\n",
      "                    >Support ReqRes</a\n",
      "                >\n",
      "            </button>\n",
      "        </div>\n",
      "        <hr class=\"dark\" />\n",
      "        <section class=\"console try-api-links\" id=\"console\">\n",
      "            <div class=\"endpoints\" data-key=\"endpoints\">\n",
      "                <ul>\n",
      "                    <li\n",
      "                        data-id=\"users\"\n",
      "                        data-key=\"endpoint\"\n",
      "                        data-http=\"get\"\n",
      "                        class=\"active\"\n",
      "                    >\n",
      "                        <a data-key=\"try-link\"> List users </a>\n",
      "                    </li>\n",
      "                    <li\n",
      "                        data-id=\"users-single\"\n",
      "                        data-key=\"endpoint\"\n",
      "                        data-http=\"get\"\n",
      "                    >\n",
      "                        <a data-key=\"try-link\"> Single user </a>\n",
      "                    </li>\n",
      "                    <li\n",
      "                        data-id=\"users-single-not-found\"\n",
      "                        data-key=\"endpoint\"\n",
      "                        data-http=\"get\"\n",
      "                    >\n",
      "                        <a data-key=\"try-link\"> Single user not found </a>\n",
      "                    </li>\n",
      "                    <li data-id=\"unknown\" data-key=\"endpoint\" data-http=\"get\">\n",
      "                        <a data-key=\"try-link\"> List &lt;resource&gt; </a>\n",
      "                    </li>\n",
      "                    <li\n",
      "                        data-id=\"unknown-single\"\n",
      "                        data-key=\"endpoint\"\n",
      "                        data-http=\"get\"\n",
      "                    >\n",
      "                        <a data-key=\"try-link\"> Single &lt;resource&gt; </a>\n",
      "                    </li>\n",
      "                    <li\n",
      "                        data-id=\"unknown-single-not-found\"\n",
      "                        data-key=\"endpoint\"\n",
      "                        data-http=\"get\"\n",
      "                    >\n",
      "                        <a data-key=\"try-link\">\n",
      "                            Single &lt;resource&gt; not found\n",
      "                        </a>\n",
      "                    </li>\n",
      "                    <li data-id=\"post\" data-key=\"endpoint\" data-http=\"post\">\n",
      "                        <a data-key=\"try-link\"> Create </a>\n",
      "                    </li>\n",
      "                    <li data-id=\"put\" data-key=\"endpoint\" data-http=\"put\">\n",
      "                        <a data-key=\"try-link\"> Update </a>\n",
      "                    </li>\n",
      "                    <li data-id=\"patch\" data-key=\"endpoint\" data-http=\"patch\">\n",
      "                        <a data-key=\"try-link\"> Update </a>\n",
      "                    </li>\n",
      "                    <li data-id=\"delete\" data-key=\"endpoint\" data-http=\"delete\">\n",
      "                        <a data-key=\"try-link\"> Delete </a>\n",
      "                    </li>\n",
      "                    <li\n",
      "                        data-id=\"register-successful\"\n",
      "                        data-key=\"endpoint\"\n",
      "                        data-http=\"post\"\n",
      "                    >\n",
      "                        <a data-key=\"try-link\"> Register - successful </a>\n",
      "                    </li>\n",
      "                    <li\n",
      "                        data-id=\"register-unsuccessful\"\n",
      "                        data-key=\"endpoint\"\n",
      "                        data-http=\"post\"\n",
      "                    >\n",
      "                        <a data-key=\"try-link\"> Register - unsuccessful </a>\n",
      "                    </li>\n",
      "                    <li\n",
      "                        data-id=\"login-successful\"\n",
      "                        data-key=\"endpoint\"\n",
      "                        data-http=\"post\"\n",
      "                    >\n",
      "                        <a data-key=\"try-link\"> Login - successful </a>\n",
      "                    </li>\n",
      "                    <li\n",
      "                        data-id=\"login-unsuccessful\"\n",
      "                        data-key=\"endpoint\"\n",
      "                        data-http=\"post\"\n",
      "                    >\n",
      "                        <a data-key=\"try-link\"> Login - unsuccessful </a>\n",
      "                    </li>\n",
      "                    <li data-id=\"delay\" data-key=\"endpoint\" data-http=\"get\">\n",
      "                        <a data-key=\"try-link\"> Delayed response </a>\n",
      "                    </li>\n",
      "                </ul>\n",
      "            </div>\n",
      "            <!--\n",
      "\t\t\t-->\n",
      "            <div class=\"output\">\n",
      "                <div class=\"request\">\n",
      "                    <p class=\"request-title\">\n",
      "                        <strong\n",
      "                            >Request <i class=\"fa fa-arrow-circle-up\"></i>\n",
      "                            <a\n",
      "                                class=\"link try-link\"\n",
      "                                data-key=\"request-output-link\"\n",
      "                            >\n",
      "                                <span class=\"url\" data-key=\"url\"></span>\n",
      "                            </a>\n",
      "                        </strong>\n",
      "                    </p>\n",
      "                    <pre data-key=\"output-request\"></pre>\n",
      "                </div>\n",
      "                <!--\n",
      "\t\t\t\t-->\n",
      "                <div class=\"response\">\n",
      "                    <p class=\"response-title\">\n",
      "                        <strong\n",
      "                            >Response <i class=\"fa fa-arrow-circle-down\"></i>\n",
      "                            <span\n",
      "                                class=\"response-code\"\n",
      "                                data-key=\"response-code\"\n",
      "                            ></span\n",
      "                        ></strong>\n",
      "                    </p>\n",
      "                    <div data-key=\"spinner\" class=\"spinner\" hidden>\n",
      "                        <div class=\"cube1\"></div>\n",
      "                        <div class=\"cube2\"></div>\n",
      "                    </div>\n",
      "                    <pre data-key=\"output-response\"></pre>\n",
      "                </div>\n",
      "            </div>\n",
      "        </section>\n",
      "\n",
      "        <hr class=\"dark\" />\n",
      "\n",
      "        <style>\n",
      "            #impeccable-js {\n",
      "                font-family: -apple-system, BlinkMacSystemFont, 'Segoe UI',\n",
      "                    Roboto, Oxygen-Sans, Ubuntu, Cantarell, 'Helvetica Neue',\n",
      "                    Helvetica, Arial, sans-serif;\n",
      "                margin-bottom: 2rem;\n",
      "            }\n",
      "            #impeccable-js * {\n",
      "                margin: initial;\n",
      "                padding: initial;\n",
      "            }\n",
      "            #impeccable-js a {\n",
      "                display: flex;\n",
      "                justify-content: space-between;\n",
      "                align-items: center;\n",
      "                z-index: 100;\n",
      "                overflow: hidden;\n",
      "                max-width: 1200px;\n",
      "                border-radius: 3px;\n",
      "                background-color: #161616;\n",
      "                box-shadow: 0 1px 4px 1px hsla(0, 0%, 0%, 0.1);\n",
      "            }\n",
      "            #impeccable-js :any-link {\n",
      "                text-decoration: none;\n",
      "            }\n",
      "            #impeccable-js img {\n",
      "                padding: 10px;\n",
      "                box-sizing: content-box;\n",
      "                width: 125px;\n",
      "                height: 50px;\n",
      "            }\n",
      "            #impeccable-js .sponsor-description {\n",
      "                margin: 0 1em;\n",
      "                font-size: 14px;\n",
      "                line-height: 1.4;\n",
      "                color: #fff;\n",
      "                text-align: left;\n",
      "                flex: 1;\n",
      "            }\n",
      "            #impeccable-js .sponsor-cta {\n",
      "                margin-right: 14px;\n",
      "                padding: 1em;\n",
      "                font-size: 11px;\n",
      "                font-weight: 500;\n",
      "                line-height: 1;\n",
      "                white-space: nowrap;\n",
      "                border-radius: 4px;\n",
      "            }\n",
      "        </style>\n",
      "        <div id=\"impeccable-js\"></div>\n",
      "\n",
      "        <div>\n",
      "            <iframe\n",
      "                src=\"https://codesandbox.io/embed/polished-butterfly-j17lt?autoresize=1&fontsize=14&theme=dark&view=preview\"\n",
      "                style=\"\n",
      "                    width: 100%;\n",
      "                    height: 700px;\n",
      "                    border: 0;\n",
      "                    border-radius: 4px;\n",
      "                    overflow: hidden;\n",
      "                \"\n",
      "                title=\"polished-butterfly-j17lt\"\n",
      "                allow=\"accelerometer; ambient-light-sensor; camera; encrypted-media; geolocation; gyroscope; hid; microphone; midi; payment; usb; vr; xr-spatial-tracking\"\n",
      "                sandbox=\"allow-forms allow-modals allow-popups allow-presentation allow-same-origin allow-scripts\"\n",
      "            ></iframe>\n",
      "        </div>\n",
      "\n",
      "        <h2 class=\"t-center heading\">It&rsquo;s all in the details</h2>\n",
      "        <hr class=\"dark\" />\n",
      "        <section class=\"technical-bits\" id=\"technical-bits\">\n",
      "            <ul class=\"iconed\">\n",
      "                <li>\n",
      "                    <i class=\"fa fa-cloud\"></i>\n",
      "                    <p>\n",
      "                        <strong\n",
      "                            >Hosted on\n",
      "                            <a href=\"https://www.heroku.com/\">Heroku</a></strong\n",
      "                        >\n",
      "                    </p>\n",
      "                    <p>\n",
      "                        Which means 99.99% Uptime SLA.<br />All you need is the\n",
      "                        base URL, and you're away: <br /><br /><span\n",
      "                            class=\"code\"\n",
      "                            >https://reqres.in/api/</span\n",
      "                        ><br /><br />The API is CORS enabled, so you can make\n",
      "                        requests right from the browser, no matter what domain,\n",
      "                        or even from somewhere like JSFiddle or JSBin.\n",
      "                    </p>\n",
      "                </li>\n",
      "                <li>\n",
      "                    <i class=\"fa fa-file-code-o\"></i>\n",
      "                    <p><strong>Language agnostic</strong></p>\n",
      "                    <p>\n",
      "                        A generic API that conforms to REST principles and\n",
      "                        accepts a content type of <br /><br /><span class=\"code\"\n",
      "                            >application/json</span\n",
      "                        ><br /><br />Any endpoint that contains\n",
      "                        \"&lt;resource&gt;\" can be substituted with anything you\n",
      "                        supply, ie. \"products\", \"accounts\", etc..the API will\n",
      "                        just respond with various Pantone colours.\n",
      "                    </p>\n",
      "                </li>\n",
      "            </ul>\n",
      "        </section>\n",
      "\n",
      "        <h2 class=\"t-center heading\">Getting started</h2>\n",
      "        <hr class=\"dark\" />\n",
      "        <section class=\"getting-started t-center\" id=\"getting-started\">\n",
      "            <i class=\"fa fa-html5\"></i>\n",
      "            <div class=\"swagger-link\">\n",
      "                <p>Check out the Swagger doc:</p>\n",
      "                <a href=\"/api-docs\">\n",
      "                    <img\n",
      "                        src=\"/img/swagger-logo-horizontal.jpeg\"\n",
      "                        alt=\"Swagger logo\"\n",
      "                    />\n",
      "                </a>\n",
      "            </div>\n",
      "            <div class=\"tab\">\n",
      "                <p class=\"tab-title\">jQuery</p>\n",
      "                <p>If you, for example, want to create a fake user:</p>\n",
      "                <pre>\n",
      "$.ajax({\n",
      "    url: \"https://reqres.in/api/users\",\n",
      "    type: \"POST\",\n",
      "    data: {\n",
      "        name: \"paul rudd\",\n",
      "        movies: [\"I Love You Man\", \"Role Models\"]\n",
      "    },\n",
      "    success: function(response){\n",
      "        console.log(response);\n",
      "    }\n",
      "});\n",
      "\t\t\t\t</pre\n",
      "                >\n",
      "                <p>For which the response to this request will be...</p>\n",
      "                <pre>\n",
      "{\n",
      "    \"name\":\"paul rudd\",\n",
      "    \"movies[]\":[\n",
      "        \"I Love You Man\",\n",
      "        \"Role Models\"\n",
      "    ],\n",
      "    \"id\":\"243\",\n",
      "    \"createdAt\":\"2014-10-18T12:09:05.255Z\"\n",
      "}\n",
      "\t\t\t\t</pre\n",
      "                >\n",
      "                <p>\n",
      "                    You can see that the API has sent us back whatever user\n",
      "                    details we sent it, plus an\n",
      "                    <span class=\"code\">id</span> &amp;\n",
      "                    <span class=\"code\">createdAt</span> key for our use.\n",
      "                </p>\n",
      "            </div>\n",
      "            <!--\n",
      "\t\t\t-->\n",
      "            <div class=\"tab\">\n",
      "                <p class=\"tab-title\">Native JavaScript</p>\n",
      "                <p>\n",
      "                    If you've already got your own application entities, ie.\n",
      "                    \"products\", you can send them in the endpoint URL, like so:\n",
      "                </p>\n",
      "                <pre>\n",
      "var xhr = new XMLHttpRequest();\n",
      "xhr.open(\"GET\", \"https://reqres.in/api/products/3\", true);\n",
      "xhr.onload = function(){\n",
      "    console.log(xhr.responseText);\n",
      "};\n",
      "xhr.send();\n",
      "\t\t\t\t</pre\n",
      "                >\n",
      "                <p>\n",
      "                    It would be impossible for Reqres to know your application\n",
      "                    data, so the API will respond from a sample set of Pantone\n",
      "                    colour data\n",
      "                </p>\n",
      "                <pre>\n",
      "{\n",
      "    \"data\":{\n",
      "        \"id\":3,\n",
      "        \"name\":\"true red\",\n",
      "        \"year\":2002,\n",
      "        \"pantone_value\":\"19-1664\"\n",
      "    }\n",
      "}\n",
      "\t\t\t\t</pre\n",
      "                >\n",
      "                <p>\n",
      "                    It's entirely possible to get sample data into your\n",
      "                    interface in seconds!\n",
      "                </p>\n",
      "            </div>\n",
      "        </section>\n",
      "\n",
      "        <h2 class=\"t-center heading\">Still don't really get it...</h2>\n",
      "        <hr class=\"dark\" />\n",
      "        <section class=\"technical-bits\" id=\"technical-bits\">\n",
      "            <ul class=\"iconed\">\n",
      "                <li>\n",
      "                    <i class=\"fa fa-rocket\"></i>\n",
      "                    <p>\n",
      "                        <strong>Reqres is a <em>real</em> API</strong>\n",
      "                    </p>\n",
      "                    <p>\n",
      "                        Reqres simulates real application scenarios. If you want\n",
      "                        to test a user authentication system, Reqres will\n",
      "                        respond to a successful login/register request with a\n",
      "                        token for you to identify a sample user, or with a 403\n",
      "                        forbidden response to an unsuccessful login/registration\n",
      "                        attempt. <br /><br />A common front-end scenario that's\n",
      "                        easily forgotten is loading states, which can be easily\n",
      "                        simulated through Reqres by appending <br /><span\n",
      "                            class=\"code\"\n",
      "                            >?delay=&lt;a number of seconds&gt;</span\n",
      "                        >\n",
      "                        to any endpoint URL, which will delay the API response\n",
      "                        time. Animated loading GIFs &amp; SVGs at the ready!\n",
      "                    </p>\n",
      "                </li>\n",
      "                <li>\n",
      "                    <i class=\"fa fa-bolt\"></i>\n",
      "                    <p><strong>Technical demos and tutorials</strong></p>\n",
      "                    <p>\n",
      "                        If you're trying to demonstrate a front-end\n",
      "                        (JavaScript-based) concept, you don't really want the\n",
      "                        hassle of setting up an API, or even a server\n",
      "                        (especially during a live workshop or demo).<br /><br />\n",
      "                        You can just write your HTML, CSS &amp; JavaScript as\n",
      "                        usual and send Reqres AJAX requests, which will respond\n",
      "                        with the expected response codes and output.\n",
      "                    </p>\n",
      "                </li>\n",
      "\n",
      "                <li>\n",
      "                    <i class=\"fa fa-file-code-o\"></i>\n",
      "                    <p><strong>Rapid prototyping of interfaces</strong></p>\n",
      "                    <p>\n",
      "                        When prototyping a new interface, you just want an API\n",
      "                        <em>there</em>, with minimal setup effort involved.\n",
      "                        Normally, I'd point people, who aren't too familiar with\n",
      "                        backend programming, to\n",
      "                        <a href=\"http://sailsjs.org\">Sailsjs</a> which can\n",
      "                        auto-generate a REST-API for you from the command\n",
      "                        line.<br /><br />\n",
      "                        However, you will need Node.js installed and some\n",
      "                        familiarity of how Node.js works. If that sounds like\n",
      "                        too much hassle and way too daunting, Reqres is just a\n",
      "                        URL. Sending it an AJAX request is step 1...there is no\n",
      "                        step 2.\n",
      "                    </p>\n",
      "                </li>\n",
      "            </ul>\n",
      "        </section>\n",
      "\n",
      "        <h2 class=\"t-center heading\">Peace of mind</h2>\n",
      "        <hr class=\"dark\" />\n",
      "        <section class=\"peace-of-mind\" id=\"peace-of-mind\">\n",
      "            <i class=\"fa fa-lock\"></i>\n",
      "            <p>\n",
      "                It might seem <strong>pretty weird</strong> to be sending your\n",
      "                data to a 3rd party API, but I can assure you, Reqres\n",
      "                <strong>does not store any of your data</strong> at all. Once\n",
      "                you send it to us, we just send it straight back...and then it's\n",
      "                gone!\n",
      "            </p>\n",
      "        </section>\n",
      "\n",
      "        <h2 id=\"support-heading\" class=\"t-center heading\">Support</h2>\n",
      "        <hr class=\"dark\" />\n",
      "        <section class=\"pro support\" id=\"support\">\n",
      "            <p class=\"breathe\">\n",
      "                ReqRes serves nearly\n",
      "                <strong>half a billion requests each month</strong>, and is\n",
      "                provided free-of-charge.\n",
      "            </p>\n",
      "            <p class=\"breathe\">\n",
      "                To keep ReqRes free, contributions towards running costs are\n",
      "                appreciated!\n",
      "            </p>\n",
      "\n",
      "            <form class=\"breathe\" action=\"#\" id=\"supportForm\">\n",
      "                <div>\n",
      "                    <input\n",
      "                        type=\"radio\"\n",
      "                        id=\"supportOneTime\"\n",
      "                        name=\"support\"\n",
      "                        value=\"supportOneTime\"\n",
      "                        checked\n",
      "                    />\n",
      "                    <input\n",
      "                        type=\"number\"\n",
      "                        placeholder=\"$10\"\n",
      "                        max=\"100000\"\n",
      "                        min=\"1\"\n",
      "                        name=\"oneTimeAmount\"\n",
      "                    />\n",
      "                    <label for=\"supportOneTime\">One-time payment ($)</label>\n",
      "                </div>\n",
      "                <div>\n",
      "                    <input\n",
      "                        type=\"radio\"\n",
      "                        id=\"supportRecurring\"\n",
      "                        name=\"support\"\n",
      "                        value=\"supportRecurring\"\n",
      "                    />\n",
      "                    <label for=\"supportRecurring\"\n",
      "                        >Monthly support ($5/month)</label\n",
      "                    >\n",
      "                </div>\n",
      "                <button>Support ReqRes</button>\n",
      "            </form>\n",
      "\n",
      "            <p class=\"tiny\">\n",
      "                Selecting either option will redirect you to a hosted Stripe\n",
      "                Checkout page to complete payment.\n",
      "            </p>\n",
      "        </section>\n",
      "\n",
      "        <h2 class=\"t-center heading\">Advertising</h2>\n",
      "        <hr class=\"dark\" />\n",
      "        <section class=\"pro\" id=\"pro\">\n",
      "            <p>\n",
      "                Do you want to advertise your jobs/tools/software/cats through\n",
      "                Reqres to millions of developers every week? Click for more\n",
      "                <a\n",
      "                    href=\"https://www.dropbox.com/s/2w7gaeydx02qs40/Reqres_Advertising_Proposal.pdf?dl=0\"\n",
      "                    >info [pdf]</a\n",
      "                >\n",
      "                on the ads. <a href=\"/cdn-cgi/l/email-protection#a5cdc0c9c9cae5c7c0cbcdcad2c1c9c08bccc8\">Contact</a> for\n",
      "                pricing and questions.\n",
      "            </p>\n",
      "        </section>\n",
      "\n",
      "        <h2 class=\"t-center heading\">Looking for pro features?</h2>\n",
      "        <hr class=\"dark\" />\n",
      "        <section class=\"pro\" id=\"pro\">\n",
      "            <button id=\"trigger-pro\" class=\"large\">Upgrade</button>\n",
      "\n",
      "            <div id=\"pro-form\" class=\"pro-form\">\n",
      "                <h3>\n",
      "                    <strong>Ace.</strong> Pro features coming real soon. Stick\n",
      "                    your email in here to be notified and help build our pro\n",
      "                    tier.\n",
      "                </h3>\n",
      "                <!-- Begin Mailchimp Signup Form -->\n",
      "                <link\n",
      "                    href=\"//cdn-images.mailchimp.com/embedcode/classic-10_7.css\"\n",
      "                    rel=\"stylesheet\"\n",
      "                    type=\"text/css\"\n",
      "                />\n",
      "                <div id=\"mc_embed_signup\">\n",
      "                    <form\n",
      "                        action=\"https://benhowdle.us20.list-manage.com/subscribe/post?u=8c58165749318545a89cd1b21&amp;id=544f278469\"\n",
      "                        method=\"post\"\n",
      "                        id=\"mc-embedded-subscribe-form\"\n",
      "                        name=\"mc-embedded-subscribe-form\"\n",
      "                        class=\"validate\"\n",
      "                        target=\"_blank\"\n",
      "                        novalidate\n",
      "                    >\n",
      "                        <div id=\"mc_embed_signup_scroll\">\n",
      "                            <div class=\"mc-field-group\">\n",
      "                                <label for=\"mce-EMAIL\">Email Address </label>\n",
      "                                <input\n",
      "                                    type=\"email\"\n",
      "                                    value=\"\"\n",
      "                                    name=\"EMAIL\"\n",
      "                                    class=\"required email\"\n",
      "                                    id=\"mce-EMAIL\"\n",
      "                                />\n",
      "                            </div>\n",
      "                            <div id=\"mce-responses\" class=\"clear\">\n",
      "                                <div\n",
      "                                    class=\"response\"\n",
      "                                    id=\"mce-error-response\"\n",
      "                                    style=\"display: none\"\n",
      "                                ></div>\n",
      "                                <div\n",
      "                                    class=\"response\"\n",
      "                                    id=\"mce-success-response\"\n",
      "                                    style=\"display: none\"\n",
      "                                ></div>\n",
      "                            </div>\n",
      "                            <!-- real people should not fill this in and expect good things - do not remove this or risk form bot signups-->\n",
      "                            <div\n",
      "                                style=\"position: absolute; left: -5000px\"\n",
      "                                aria-hidden=\"true\"\n",
      "                            >\n",
      "                                <input\n",
      "                                    type=\"text\"\n",
      "                                    name=\"b_8c58165749318545a89cd1b21_544f278469\"\n",
      "                                    tabindex=\"-1\"\n",
      "                                    value=\"\"\n",
      "                                />\n",
      "                            </div>\n",
      "                            <div class=\"clear\">\n",
      "                                <input\n",
      "                                    type=\"submit\"\n",
      "                                    value=\"Subscribe\"\n",
      "                                    name=\"subscribe\"\n",
      "                                    id=\"mc-embedded-subscribe\"\n",
      "                                    class=\"button\"\n",
      "                                />\n",
      "                            </div>\n",
      "                        </div>\n",
      "                    </form>\n",
      "                </div>\n",
      "\n",
      "                <!--End mc_embed_signup-->\n",
      "            </div>\n",
      "        </section>\n",
      "    </div>\n",
      "</div>\n",
      "</div>\n",
      "        <footer>\n",
      "            <div class=\"wrap\">\n",
      "                <hr class=\"dark\" />\n",
      "                <p class=\"t-center\">\n",
      "                    Made for developers and designers by\n",
      "                    <a href=\"https://benhowdle.im\">Ben Howdle</a>\n",
      "                </p>\n",
      "            </div>\n",
      "        </footer>\n",
      "        <script data-cfasync=\"false\" src=\"/cdn-cgi/scripts/5c5dd728/cloudflare-static/email-decode.min.js\"></script><script type=\"text/javascript\" src=\"https://cdnjs.cloudflare.com/ajax/libs/fastclick/1.0.3/fastclick.min.js\"></script>\n",
      "        <script src=\"/js/app.js\"></script>\n",
      "        <!-- Global site tag (gtag.js) - Google Analytics -->\n",
      "        <script\n",
      "            async\n",
      "            src=\"https://www.googletagmanager.com/gtag/js?id=UA-174008107-1\"\n",
      "        ></script>\n",
      "        <script>\n",
      "            window.dataLayer = window.dataLayer || []\n",
      "            function gtag() {\n",
      "                dataLayer.push(arguments)\n",
      "            }\n",
      "            gtag('js', new Date())\n",
      "\n",
      "            gtag('config', 'UA-174008107-1')\n",
      "        </script>\n",
      "        <script>\n",
      "            ;(function (i, s, o, g, r, a, m) {\n",
      "                i['GoogleAnalyticsObject'] = r\n",
      "                ;(i[r] =\n",
      "                    i[r] ||\n",
      "                    function () {\n",
      "                        ;(i[r].q = i[r].q || []).push(arguments)\n",
      "                    }),\n",
      "                    (i[r].l = 1 * new Date())\n",
      "                ;(a = s.createElement(o)), (m = s.getElementsByTagName(o)[0])\n",
      "                a.async = 1\n",
      "                a.src = g\n",
      "                m.parentNode.insertBefore(a, m)\n",
      "            })(\n",
      "                window,\n",
      "                document,\n",
      "                'script',\n",
      "                '//www.google-analytics.com/analytics.js',\n",
      "                'ga'\n",
      "            )\n",
      "\n",
      "            ga('create', 'UA-55888877-1', 'auto')\n",
      "            ga('send', 'pageview')\n",
      "        </script>\n",
      "        <script>\n",
      "            ;(function () {\n",
      "                if (typeof _bsa !== 'undefined' && _bsa) {\n",
      "                    _bsa.init(\n",
      "                        'custom',\n",
      "                        'CEBIP53J',\n",
      "                        'placement:reqresin-sponsor',\n",
      "                        {\n",
      "                            target: '#impeccable-js',\n",
      "                            template: `\n",
      "        <a href=\"##link##\" rel=\"sponsored noopener\" target=\"_blank\" title=\"##company## — ##tagline##\">\n",
      "        <img src=\"##logo##\" style=\"background-color: ##backgroundColor##\">\n",
      "        <div class=\"sponsor-description\">##description##</div>\n",
      "        <div class=\"sponsor-cta\" style=\"background-color: ##backgroundColor##; color: ##textColor##\">##callToAction##</div>\n",
      "        </a>\n",
      "        `,\n",
      "                        }\n",
      "                    )\n",
      "                }\n",
      "            })()\n",
      "        </script>\n",
      "    </body>\n",
      "</html>\n",
      "\n"
     ]
    }
   ],
   "source": [
    "r4=requests.get(\"https://reqres.in/\")\n",
    "print(r4.text)"
   ]
  },
  {
   "cell_type": "code",
   "execution_count": 67,
   "id": "bac4c264-9695-40f3-8382-1788746d0da3",
   "metadata": {},
   "outputs": [
    {
     "name": "stdout",
     "output_type": "stream",
     "text": [
      "True\n"
     ]
    }
   ],
   "source": [
    "print(r4.ok)"
   ]
  },
  {
   "cell_type": "code",
   "execution_count": 69,
   "id": "19432f46-d076-4f6c-b5d5-d09a4f6d958e",
   "metadata": {},
   "outputs": [
    {
     "name": "stdout",
     "output_type": "stream",
     "text": [
      "['__attrs__', '__bool__', '__class__', '__delattr__', '__dict__', '__dir__', '__doc__', '__enter__', '__eq__', '__exit__', '__format__', '__ge__', '__getattribute__', '__getstate__', '__gt__', '__hash__', '__init__', '__init_subclass__', '__iter__', '__le__', '__lt__', '__module__', '__ne__', '__new__', '__nonzero__', '__reduce__', '__reduce_ex__', '__repr__', '__setattr__', '__setstate__', '__sizeof__', '__str__', '__subclasshook__', '__weakref__', '_content', '_content_consumed', '_next', 'apparent_encoding', 'close', 'connection', 'content', 'cookies', 'elapsed', 'encoding', 'headers', 'history', 'is_permanent_redirect', 'is_redirect', 'iter_content', 'iter_lines', 'json', 'links', 'next', 'ok', 'raise_for_status', 'raw', 'reason', 'request', 'status_code', 'text', 'url']\n"
     ]
    }
   ],
   "source": [
    "print(dir(r4))"
   ]
  },
  {
   "cell_type": "code",
   "execution_count": 71,
   "id": "a865028e-f0c3-40c4-b825-2c0fae713bce",
   "metadata": {},
   "outputs": [
    {
     "ename": "JSONDecodeError",
     "evalue": "Expecting value: line 1 column 1 (char 0)",
     "output_type": "error",
     "traceback": [
      "\u001b[1;31m---------------------------------------------------------------------------\u001b[0m",
      "\u001b[1;31mJSONDecodeError\u001b[0m                           Traceback (most recent call last)",
      "File \u001b[1;32m~\\anaconda3\\Lib\\site-packages\\requests\\models.py:974\u001b[0m, in \u001b[0;36mResponse.json\u001b[1;34m(self, **kwargs)\u001b[0m\n\u001b[0;32m    973\u001b[0m \u001b[38;5;28;01mtry\u001b[39;00m:\n\u001b[1;32m--> 974\u001b[0m     \u001b[38;5;28;01mreturn\u001b[39;00m complexjson\u001b[38;5;241m.\u001b[39mloads(\u001b[38;5;28mself\u001b[39m\u001b[38;5;241m.\u001b[39mtext, \u001b[38;5;241m*\u001b[39m\u001b[38;5;241m*\u001b[39mkwargs)\n\u001b[0;32m    975\u001b[0m \u001b[38;5;28;01mexcept\u001b[39;00m JSONDecodeError \u001b[38;5;28;01mas\u001b[39;00m e:\n\u001b[0;32m    976\u001b[0m     \u001b[38;5;66;03m# Catch JSON-related errors and raise as requests.JSONDecodeError\u001b[39;00m\n\u001b[0;32m    977\u001b[0m     \u001b[38;5;66;03m# This aliases json.JSONDecodeError and simplejson.JSONDecodeError\u001b[39;00m\n",
      "File \u001b[1;32m~\\anaconda3\\Lib\\json\\__init__.py:346\u001b[0m, in \u001b[0;36mloads\u001b[1;34m(s, cls, object_hook, parse_float, parse_int, parse_constant, object_pairs_hook, **kw)\u001b[0m\n\u001b[0;32m    343\u001b[0m \u001b[38;5;28;01mif\u001b[39;00m (\u001b[38;5;28mcls\u001b[39m \u001b[38;5;129;01mis\u001b[39;00m \u001b[38;5;28;01mNone\u001b[39;00m \u001b[38;5;129;01mand\u001b[39;00m object_hook \u001b[38;5;129;01mis\u001b[39;00m \u001b[38;5;28;01mNone\u001b[39;00m \u001b[38;5;129;01mand\u001b[39;00m\n\u001b[0;32m    344\u001b[0m         parse_int \u001b[38;5;129;01mis\u001b[39;00m \u001b[38;5;28;01mNone\u001b[39;00m \u001b[38;5;129;01mand\u001b[39;00m parse_float \u001b[38;5;129;01mis\u001b[39;00m \u001b[38;5;28;01mNone\u001b[39;00m \u001b[38;5;129;01mand\u001b[39;00m\n\u001b[0;32m    345\u001b[0m         parse_constant \u001b[38;5;129;01mis\u001b[39;00m \u001b[38;5;28;01mNone\u001b[39;00m \u001b[38;5;129;01mand\u001b[39;00m object_pairs_hook \u001b[38;5;129;01mis\u001b[39;00m \u001b[38;5;28;01mNone\u001b[39;00m \u001b[38;5;129;01mand\u001b[39;00m \u001b[38;5;129;01mnot\u001b[39;00m kw):\n\u001b[1;32m--> 346\u001b[0m     \u001b[38;5;28;01mreturn\u001b[39;00m _default_decoder\u001b[38;5;241m.\u001b[39mdecode(s)\n\u001b[0;32m    347\u001b[0m \u001b[38;5;28;01mif\u001b[39;00m \u001b[38;5;28mcls\u001b[39m \u001b[38;5;129;01mis\u001b[39;00m \u001b[38;5;28;01mNone\u001b[39;00m:\n",
      "File \u001b[1;32m~\\anaconda3\\Lib\\json\\decoder.py:337\u001b[0m, in \u001b[0;36mJSONDecoder.decode\u001b[1;34m(self, s, _w)\u001b[0m\n\u001b[0;32m    333\u001b[0m \u001b[38;5;250m\u001b[39m\u001b[38;5;124;03m\"\"\"Return the Python representation of ``s`` (a ``str`` instance\u001b[39;00m\n\u001b[0;32m    334\u001b[0m \u001b[38;5;124;03mcontaining a JSON document).\u001b[39;00m\n\u001b[0;32m    335\u001b[0m \n\u001b[0;32m    336\u001b[0m \u001b[38;5;124;03m\"\"\"\u001b[39;00m\n\u001b[1;32m--> 337\u001b[0m obj, end \u001b[38;5;241m=\u001b[39m \u001b[38;5;28mself\u001b[39m\u001b[38;5;241m.\u001b[39mraw_decode(s, idx\u001b[38;5;241m=\u001b[39m_w(s, \u001b[38;5;241m0\u001b[39m)\u001b[38;5;241m.\u001b[39mend())\n\u001b[0;32m    338\u001b[0m end \u001b[38;5;241m=\u001b[39m _w(s, end)\u001b[38;5;241m.\u001b[39mend()\n",
      "File \u001b[1;32m~\\anaconda3\\Lib\\json\\decoder.py:355\u001b[0m, in \u001b[0;36mJSONDecoder.raw_decode\u001b[1;34m(self, s, idx)\u001b[0m\n\u001b[0;32m    354\u001b[0m \u001b[38;5;28;01mexcept\u001b[39;00m \u001b[38;5;167;01mStopIteration\u001b[39;00m \u001b[38;5;28;01mas\u001b[39;00m err:\n\u001b[1;32m--> 355\u001b[0m     \u001b[38;5;28;01mraise\u001b[39;00m JSONDecodeError(\u001b[38;5;124m\"\u001b[39m\u001b[38;5;124mExpecting value\u001b[39m\u001b[38;5;124m\"\u001b[39m, s, err\u001b[38;5;241m.\u001b[39mvalue) \u001b[38;5;28;01mfrom\u001b[39;00m \u001b[38;5;28;01mNone\u001b[39;00m\n\u001b[0;32m    356\u001b[0m \u001b[38;5;28;01mreturn\u001b[39;00m obj, end\n",
      "\u001b[1;31mJSONDecodeError\u001b[0m: Expecting value: line 1 column 1 (char 0)",
      "\nDuring handling of the above exception, another exception occurred:\n",
      "\u001b[1;31mJSONDecodeError\u001b[0m                           Traceback (most recent call last)",
      "Cell \u001b[1;32mIn[71], line 1\u001b[0m\n\u001b[1;32m----> 1\u001b[0m \u001b[38;5;28mprint\u001b[39m(r4\u001b[38;5;241m.\u001b[39mjson())\n",
      "File \u001b[1;32m~\\anaconda3\\Lib\\site-packages\\requests\\models.py:978\u001b[0m, in \u001b[0;36mResponse.json\u001b[1;34m(self, **kwargs)\u001b[0m\n\u001b[0;32m    974\u001b[0m     \u001b[38;5;28;01mreturn\u001b[39;00m complexjson\u001b[38;5;241m.\u001b[39mloads(\u001b[38;5;28mself\u001b[39m\u001b[38;5;241m.\u001b[39mtext, \u001b[38;5;241m*\u001b[39m\u001b[38;5;241m*\u001b[39mkwargs)\n\u001b[0;32m    975\u001b[0m \u001b[38;5;28;01mexcept\u001b[39;00m JSONDecodeError \u001b[38;5;28;01mas\u001b[39;00m e:\n\u001b[0;32m    976\u001b[0m     \u001b[38;5;66;03m# Catch JSON-related errors and raise as requests.JSONDecodeError\u001b[39;00m\n\u001b[0;32m    977\u001b[0m     \u001b[38;5;66;03m# This aliases json.JSONDecodeError and simplejson.JSONDecodeError\u001b[39;00m\n\u001b[1;32m--> 978\u001b[0m     \u001b[38;5;28;01mraise\u001b[39;00m RequestsJSONDecodeError(e\u001b[38;5;241m.\u001b[39mmsg, e\u001b[38;5;241m.\u001b[39mdoc, e\u001b[38;5;241m.\u001b[39mpos)\n",
      "\u001b[1;31mJSONDecodeError\u001b[0m: Expecting value: line 1 column 1 (char 0)"
     ]
    }
   ],
   "source": [
    "print(r4.json())"
   ]
  },
  {
   "cell_type": "code",
   "execution_count": 73,
   "id": "5266f5af-4530-4459-b3d9-7c54739cf15e",
   "metadata": {},
   "outputs": [
    {
     "name": "stdout",
     "output_type": "stream",
     "text": [
      "200\n"
     ]
    }
   ],
   "source": [
    "r5=requests.get(\"https://randomuser.me/api\")\n",
    "print(r5.status_code)"
   ]
  },
  {
   "cell_type": "code",
   "execution_count": 75,
   "id": "a348ddb5-01e8-4575-87ac-64074c1143b6",
   "metadata": {},
   "outputs": [
    {
     "name": "stdout",
     "output_type": "stream",
     "text": [
      "{\"results\":[{\"gender\":\"female\",\"name\":{\"title\":\"Mrs\",\"first\":\"Maeva\",\"last\":\"Tremblay\"},\"location\":{\"street\":{\"number\":3701,\"name\":\"Peel St\"},\"city\":\"Jasper\",\"state\":\"Northwest Territories\",\"country\":\"Canada\",\"postcode\":\"L5P 2C2\",\"coordinates\":{\"latitude\":\"-68.2108\",\"longitude\":\"130.3991\"},\"timezone\":{\"offset\":\"+5:45\",\"description\":\"Kathmandu\"}},\"email\":\"maeva.tremblay@example.com\",\"login\":{\"uuid\":\"be7b5b76-2119-4f4c-8d0c-4bf928ed9072\",\"username\":\"silverfrog738\",\"password\":\"8inches\",\"salt\":\"ffJ7pVrZ\",\"md5\":\"df9b2a4e8578df7fa4a4afad0fcdfb9e\",\"sha1\":\"e4e1a1b9bcf1093c2adfa9bd1d9e7ad4d89433cd\",\"sha256\":\"dd0499bb5f5bdd7a788e210712efdaa078f3356e1983d463d20a5b276e22c863\"},\"dob\":{\"date\":\"2000-08-23T19:28:05.320Z\",\"age\":24},\"registered\":{\"date\":\"2014-07-21T07:06:48.745Z\",\"age\":10},\"phone\":\"N98 P04-1326\",\"cell\":\"H12 X55-9036\",\"id\":{\"name\":\"SIN\",\"value\":\"213741978\"},\"picture\":{\"large\":\"https://randomuser.me/api/portraits/women/15.jpg\",\"medium\":\"https://randomuser.me/api/portraits/med/women/15.jpg\",\"thumbnail\":\"https://randomuser.me/api/portraits/thumb/women/15.jpg\"},\"nat\":\"CA\"}],\"info\":{\"seed\":\"4203ee39e480064b\",\"results\":1,\"page\":1,\"version\":\"1.4\"}}\n"
     ]
    }
   ],
   "source": [
    "print(r5.text)"
   ]
  },
  {
   "cell_type": "code",
   "execution_count": 77,
   "id": "397523e5-ec59-4e29-8575-4c33d167d8c6",
   "metadata": {},
   "outputs": [
    {
     "name": "stdout",
     "output_type": "stream",
     "text": [
      "{'results': [{'gender': 'female', 'name': {'title': 'Mrs', 'first': 'Maeva', 'last': 'Tremblay'}, 'location': {'street': {'number': 3701, 'name': 'Peel St'}, 'city': 'Jasper', 'state': 'Northwest Territories', 'country': 'Canada', 'postcode': 'L5P 2C2', 'coordinates': {'latitude': '-68.2108', 'longitude': '130.3991'}, 'timezone': {'offset': '+5:45', 'description': 'Kathmandu'}}, 'email': 'maeva.tremblay@example.com', 'login': {'uuid': 'be7b5b76-2119-4f4c-8d0c-4bf928ed9072', 'username': 'silverfrog738', 'password': '8inches', 'salt': 'ffJ7pVrZ', 'md5': 'df9b2a4e8578df7fa4a4afad0fcdfb9e', 'sha1': 'e4e1a1b9bcf1093c2adfa9bd1d9e7ad4d89433cd', 'sha256': 'dd0499bb5f5bdd7a788e210712efdaa078f3356e1983d463d20a5b276e22c863'}, 'dob': {'date': '2000-08-23T19:28:05.320Z', 'age': 24}, 'registered': {'date': '2014-07-21T07:06:48.745Z', 'age': 10}, 'phone': 'N98 P04-1326', 'cell': 'H12 X55-9036', 'id': {'name': 'SIN', 'value': '213741978'}, 'picture': {'large': 'https://randomuser.me/api/portraits/women/15.jpg', 'medium': 'https://randomuser.me/api/portraits/med/women/15.jpg', 'thumbnail': 'https://randomuser.me/api/portraits/thumb/women/15.jpg'}, 'nat': 'CA'}], 'info': {'seed': '4203ee39e480064b', 'results': 1, 'page': 1, 'version': '1.4'}}\n"
     ]
    }
   ],
   "source": [
    "import json\n",
    "print(r5.json())"
   ]
  },
  {
   "cell_type": "code",
   "execution_count": 27,
   "id": "22f2de80-5aed-407c-ada0-fc733a7f05db",
   "metadata": {},
   "outputs": [
    {
     "name": "stdout",
     "output_type": "stream",
     "text": [
      "male\n"
     ]
    }
   ],
   "source": [
    "gender=r5.json()['results'][0]['gender']\n",
    "print(gender)"
   ]
  },
  {
   "cell_type": "code",
   "execution_count": 29,
   "id": "f07c4945-6cb0-4e32-b133-d0442b45f40c",
   "metadata": {},
   "outputs": [
    {
     "name": "stdout",
     "output_type": "stream",
     "text": [
      "{'street': {'number': 8288, 'name': 'Florabakken'}, 'city': 'Siljan', 'state': 'Oppland', 'country': 'Norway', 'postcode': '7211', 'coordinates': {'latitude': '43.4335', 'longitude': '-124.2610'}, 'timezone': {'offset': '0:00', 'description': 'Western Europe Time, London, Lisbon, Casablanca'}}\n",
      "Siljan\n"
     ]
    }
   ],
   "source": [
    "location=r5.json()['results'][0]['location']\n",
    "city=r5.json()['results'][0]['location']['city']\n",
    "print(location)\n",
    "print(city)"
   ]
  },
  {
   "cell_type": "code",
   "execution_count": 31,
   "id": "4120b455-c368-44aa-9a60-b879e6bad177",
   "metadata": {},
   "outputs": [
    {
     "name": "stdout",
     "output_type": "stream",
     "text": [
      "Gender: male\n",
      "Mr. Maximilian Heggedal \n",
      " Age: 33\n",
      "City:Siljan\n"
     ]
    }
   ],
   "source": [
    "first=r5.json()['results'][0]['name']['first']\n",
    "last=r5.json()['results'][0]['name']['last']\n",
    "title=r5.json()['results'][0]['name']['title']\n",
    "age=r5.json()['results'][0]['dob']['age']\n",
    "print(f\"Gender: {gender}\")\n",
    "print( f\"{title}. {first} {last} \")\n",
    "print(f\" Age: {age}\")\n",
    "print(f\"City:{city}\")"
   ]
  },
  {
   "cell_type": "markdown",
   "id": "43e83831-5168-442b-89d4-f2d5cdd5afd2",
   "metadata": {},
   "source": [
    "## Pokemon Example"
   ]
  },
  {
   "cell_type": "code",
   "execution_count": null,
   "id": "093732c1-ebc5-4000-afae-d5432059b4d0",
   "metadata": {},
   "outputs": [],
   "source": [
    "base_url = \"https://pokeapi.co/api/v2/\"\n",
    "\n",
    "def get_pokemon_info(name):\n",
    "    url = f\"{base_url}/pokemon/{name}\"\n",
    "    response = requests.get(url)\n",
    "\n",
    "    if response.status_code == 200:\n",
    "        pokemon_data = response.json()\n",
    "        return pokemon_data\n",
    "    else:\n",
    "        print(f\"Failed to retrieve data {response.status_code}\")\n",
    "\n",
    "pokemon_name = \"pikachu\"\n",
    "pokemon_info = get_pokemon_info(pokemon_name)\n",
    "\n",
    "if pokemon_info:\n",
    "    print(f\"Name: {pokemon_info[\"name\"].capitalize()}\")\n",
    "    print(f\"Id: {pokemon_info[\"id\"]}\")\n",
    "    print(f\"Height: {pokemon_info[\"height\"]}\")\n",
    "    print(f\"Weight: {pokemon_info[\"weight\"]}\")"
   ]
  },
  {
   "cell_type": "code",
   "execution_count": null,
   "id": "55d1326d-4113-4a39-a2f9-ba14bd916e9b",
   "metadata": {},
   "outputs": [],
   "source": [
    "pokemon_name = \"typhlosion\"\n",
    "pokemon_info = get_pokemon_info(pokemon_name)\n",
    "\n",
    "if pokemon_info:\n",
    "    print(f\"Name: {pokemon_info[\"name\"].capitalize()}\")\n",
    "    print(f\"Id: {pokemon_info[\"id\"]}\")\n",
    "    print(f\"Height: {pokemon_info[\"height\"]}\")\n",
    "    print(f\"Weight: {pokemon_info[\"weight\"]}\")"
   ]
  },
  {
   "cell_type": "code",
   "execution_count": null,
   "id": "c8c1d0a0-39da-44cc-ba65-7acca7ba7845",
   "metadata": {},
   "outputs": [],
   "source": [
    "pokemon_name = \"abra\"\n",
    "pokemon_info = get_pokemon_info(pokemon_name)\n",
    "\n",
    "if pokemon_info:\n",
    "    print(f\"Name: {pokemon_info[\"name\"].capitalize()}\")\n",
    "    print(f\"Id: {pokemon_info[\"id\"]}\")\n",
    "    print(f\"Height: {pokemon_info[\"height\"]}\")\n",
    "    print(f\"Weight: {pokemon_info[\"weight\"]}\")"
   ]
  },
  {
   "cell_type": "code",
   "execution_count": null,
   "id": "5171a29c-0a41-4151-8a95-c76d6f0b41d9",
   "metadata": {},
   "outputs": [],
   "source": [
    "pokemon_name = \"bronzor\"\n",
    "pokemon_info = get_pokemon_info(pokemon_name)\n",
    "\n",
    "if pokemon_info:\n",
    "    print(f\"Name: {pokemon_info[\"name\"].capitalize()}\")\n",
    "    print(f\"Id: {pokemon_info[\"id\"]}\")\n",
    "    print(f\"Height: {pokemon_info[\"height\"]}\")\n",
    "    print(f\"Weight: {pokemon_info[\"weight\"]}\")"
   ]
  },
  {
   "cell_type": "markdown",
   "id": "779824fb-abcb-4ced-a2df-6e0f171b691e",
   "metadata": {},
   "source": [
    "## Rick and Morty API"
   ]
  },
  {
   "cell_type": "code",
   "execution_count": 33,
   "id": "12a40d16-cf36-4c34-970b-81257ed4c6d6",
   "metadata": {},
   "outputs": [
    {
     "name": "stdout",
     "output_type": "stream",
     "text": [
      "<Response [200]>\n"
     ]
    }
   ],
   "source": [
    "import requests\n",
    "baseurl=\"https://rickandmortyapi.com/api/\"\n",
    "endpoint=\"character\"\n",
    "r=requests.get(baseurl+endpoint)\n",
    "print(r)"
   ]
  },
  {
   "cell_type": "code",
   "execution_count": 35,
   "id": "dd02288b-4ba6-42f3-b8b3-b3749b78ee95",
   "metadata": {},
   "outputs": [
    {
     "name": "stdout",
     "output_type": "stream",
     "text": [
      "{'info': {'count': 826, 'pages': 42, 'next': 'https://rickandmortyapi.com/api/character?page=2', 'prev': None}, 'results': [{'id': 1, 'name': 'Rick Sanchez', 'status': 'Alive', 'species': 'Human', 'type': '', 'gender': 'Male', 'origin': {'name': 'Earth (C-137)', 'url': 'https://rickandmortyapi.com/api/location/1'}, 'location': {'name': 'Citadel of Ricks', 'url': 'https://rickandmortyapi.com/api/location/3'}, 'image': 'https://rickandmortyapi.com/api/character/avatar/1.jpeg', 'episode': ['https://rickandmortyapi.com/api/episode/1', 'https://rickandmortyapi.com/api/episode/2', 'https://rickandmortyapi.com/api/episode/3', 'https://rickandmortyapi.com/api/episode/4', 'https://rickandmortyapi.com/api/episode/5', 'https://rickandmortyapi.com/api/episode/6', 'https://rickandmortyapi.com/api/episode/7', 'https://rickandmortyapi.com/api/episode/8', 'https://rickandmortyapi.com/api/episode/9', 'https://rickandmortyapi.com/api/episode/10', 'https://rickandmortyapi.com/api/episode/11', 'https://rickandmortyapi.com/api/episode/12', 'https://rickandmortyapi.com/api/episode/13', 'https://rickandmortyapi.com/api/episode/14', 'https://rickandmortyapi.com/api/episode/15', 'https://rickandmortyapi.com/api/episode/16', 'https://rickandmortyapi.com/api/episode/17', 'https://rickandmortyapi.com/api/episode/18', 'https://rickandmortyapi.com/api/episode/19', 'https://rickandmortyapi.com/api/episode/20', 'https://rickandmortyapi.com/api/episode/21', 'https://rickandmortyapi.com/api/episode/22', 'https://rickandmortyapi.com/api/episode/23', 'https://rickandmortyapi.com/api/episode/24', 'https://rickandmortyapi.com/api/episode/25', 'https://rickandmortyapi.com/api/episode/26', 'https://rickandmortyapi.com/api/episode/27', 'https://rickandmortyapi.com/api/episode/28', 'https://rickandmortyapi.com/api/episode/29', 'https://rickandmortyapi.com/api/episode/30', 'https://rickandmortyapi.com/api/episode/31', 'https://rickandmortyapi.com/api/episode/32', 'https://rickandmortyapi.com/api/episode/33', 'https://rickandmortyapi.com/api/episode/34', 'https://rickandmortyapi.com/api/episode/35', 'https://rickandmortyapi.com/api/episode/36', 'https://rickandmortyapi.com/api/episode/37', 'https://rickandmortyapi.com/api/episode/38', 'https://rickandmortyapi.com/api/episode/39', 'https://rickandmortyapi.com/api/episode/40', 'https://rickandmortyapi.com/api/episode/41', 'https://rickandmortyapi.com/api/episode/42', 'https://rickandmortyapi.com/api/episode/43', 'https://rickandmortyapi.com/api/episode/44', 'https://rickandmortyapi.com/api/episode/45', 'https://rickandmortyapi.com/api/episode/46', 'https://rickandmortyapi.com/api/episode/47', 'https://rickandmortyapi.com/api/episode/48', 'https://rickandmortyapi.com/api/episode/49', 'https://rickandmortyapi.com/api/episode/50', 'https://rickandmortyapi.com/api/episode/51'], 'url': 'https://rickandmortyapi.com/api/character/1', 'created': '2017-11-04T18:48:46.250Z'}, {'id': 2, 'name': 'Morty Smith', 'status': 'Alive', 'species': 'Human', 'type': '', 'gender': 'Male', 'origin': {'name': 'unknown', 'url': ''}, 'location': {'name': 'Citadel of Ricks', 'url': 'https://rickandmortyapi.com/api/location/3'}, 'image': 'https://rickandmortyapi.com/api/character/avatar/2.jpeg', 'episode': ['https://rickandmortyapi.com/api/episode/1', 'https://rickandmortyapi.com/api/episode/2', 'https://rickandmortyapi.com/api/episode/3', 'https://rickandmortyapi.com/api/episode/4', 'https://rickandmortyapi.com/api/episode/5', 'https://rickandmortyapi.com/api/episode/6', 'https://rickandmortyapi.com/api/episode/7', 'https://rickandmortyapi.com/api/episode/8', 'https://rickandmortyapi.com/api/episode/9', 'https://rickandmortyapi.com/api/episode/10', 'https://rickandmortyapi.com/api/episode/11', 'https://rickandmortyapi.com/api/episode/12', 'https://rickandmortyapi.com/api/episode/13', 'https://rickandmortyapi.com/api/episode/14', 'https://rickandmortyapi.com/api/episode/15', 'https://rickandmortyapi.com/api/episode/16', 'https://rickandmortyapi.com/api/episode/17', 'https://rickandmortyapi.com/api/episode/18', 'https://rickandmortyapi.com/api/episode/19', 'https://rickandmortyapi.com/api/episode/20', 'https://rickandmortyapi.com/api/episode/21', 'https://rickandmortyapi.com/api/episode/22', 'https://rickandmortyapi.com/api/episode/23', 'https://rickandmortyapi.com/api/episode/24', 'https://rickandmortyapi.com/api/episode/25', 'https://rickandmortyapi.com/api/episode/26', 'https://rickandmortyapi.com/api/episode/27', 'https://rickandmortyapi.com/api/episode/28', 'https://rickandmortyapi.com/api/episode/29', 'https://rickandmortyapi.com/api/episode/30', 'https://rickandmortyapi.com/api/episode/31', 'https://rickandmortyapi.com/api/episode/32', 'https://rickandmortyapi.com/api/episode/33', 'https://rickandmortyapi.com/api/episode/34', 'https://rickandmortyapi.com/api/episode/35', 'https://rickandmortyapi.com/api/episode/36', 'https://rickandmortyapi.com/api/episode/37', 'https://rickandmortyapi.com/api/episode/38', 'https://rickandmortyapi.com/api/episode/39', 'https://rickandmortyapi.com/api/episode/40', 'https://rickandmortyapi.com/api/episode/41', 'https://rickandmortyapi.com/api/episode/42', 'https://rickandmortyapi.com/api/episode/43', 'https://rickandmortyapi.com/api/episode/44', 'https://rickandmortyapi.com/api/episode/45', 'https://rickandmortyapi.com/api/episode/46', 'https://rickandmortyapi.com/api/episode/47', 'https://rickandmortyapi.com/api/episode/48', 'https://rickandmortyapi.com/api/episode/49', 'https://rickandmortyapi.com/api/episode/50', 'https://rickandmortyapi.com/api/episode/51'], 'url': 'https://rickandmortyapi.com/api/character/2', 'created': '2017-11-04T18:50:21.651Z'}, {'id': 3, 'name': 'Summer Smith', 'status': 'Alive', 'species': 'Human', 'type': '', 'gender': 'Female', 'origin': {'name': 'Earth (Replacement Dimension)', 'url': 'https://rickandmortyapi.com/api/location/20'}, 'location': {'name': 'Earth (Replacement Dimension)', 'url': 'https://rickandmortyapi.com/api/location/20'}, 'image': 'https://rickandmortyapi.com/api/character/avatar/3.jpeg', 'episode': ['https://rickandmortyapi.com/api/episode/6', 'https://rickandmortyapi.com/api/episode/7', 'https://rickandmortyapi.com/api/episode/8', 'https://rickandmortyapi.com/api/episode/9', 'https://rickandmortyapi.com/api/episode/10', 'https://rickandmortyapi.com/api/episode/11', 'https://rickandmortyapi.com/api/episode/12', 'https://rickandmortyapi.com/api/episode/14', 'https://rickandmortyapi.com/api/episode/15', 'https://rickandmortyapi.com/api/episode/16', 'https://rickandmortyapi.com/api/episode/17', 'https://rickandmortyapi.com/api/episode/18', 'https://rickandmortyapi.com/api/episode/19', 'https://rickandmortyapi.com/api/episode/20', 'https://rickandmortyapi.com/api/episode/21', 'https://rickandmortyapi.com/api/episode/22', 'https://rickandmortyapi.com/api/episode/23', 'https://rickandmortyapi.com/api/episode/24', 'https://rickandmortyapi.com/api/episode/25', 'https://rickandmortyapi.com/api/episode/26', 'https://rickandmortyapi.com/api/episode/27', 'https://rickandmortyapi.com/api/episode/29', 'https://rickandmortyapi.com/api/episode/30', 'https://rickandmortyapi.com/api/episode/31', 'https://rickandmortyapi.com/api/episode/32', 'https://rickandmortyapi.com/api/episode/33', 'https://rickandmortyapi.com/api/episode/34', 'https://rickandmortyapi.com/api/episode/35', 'https://rickandmortyapi.com/api/episode/36', 'https://rickandmortyapi.com/api/episode/38', 'https://rickandmortyapi.com/api/episode/39', 'https://rickandmortyapi.com/api/episode/40', 'https://rickandmortyapi.com/api/episode/41', 'https://rickandmortyapi.com/api/episode/42', 'https://rickandmortyapi.com/api/episode/43', 'https://rickandmortyapi.com/api/episode/44', 'https://rickandmortyapi.com/api/episode/45', 'https://rickandmortyapi.com/api/episode/46', 'https://rickandmortyapi.com/api/episode/47', 'https://rickandmortyapi.com/api/episode/48', 'https://rickandmortyapi.com/api/episode/49', 'https://rickandmortyapi.com/api/episode/51'], 'url': 'https://rickandmortyapi.com/api/character/3', 'created': '2017-11-04T19:09:56.428Z'}, {'id': 4, 'name': 'Beth Smith', 'status': 'Alive', 'species': 'Human', 'type': '', 'gender': 'Female', 'origin': {'name': 'Earth (Replacement Dimension)', 'url': 'https://rickandmortyapi.com/api/location/20'}, 'location': {'name': 'Earth (Replacement Dimension)', 'url': 'https://rickandmortyapi.com/api/location/20'}, 'image': 'https://rickandmortyapi.com/api/character/avatar/4.jpeg', 'episode': ['https://rickandmortyapi.com/api/episode/6', 'https://rickandmortyapi.com/api/episode/7', 'https://rickandmortyapi.com/api/episode/8', 'https://rickandmortyapi.com/api/episode/9', 'https://rickandmortyapi.com/api/episode/10', 'https://rickandmortyapi.com/api/episode/11', 'https://rickandmortyapi.com/api/episode/12', 'https://rickandmortyapi.com/api/episode/14', 'https://rickandmortyapi.com/api/episode/15', 'https://rickandmortyapi.com/api/episode/16', 'https://rickandmortyapi.com/api/episode/18', 'https://rickandmortyapi.com/api/episode/19', 'https://rickandmortyapi.com/api/episode/20', 'https://rickandmortyapi.com/api/episode/21', 'https://rickandmortyapi.com/api/episode/22', 'https://rickandmortyapi.com/api/episode/23', 'https://rickandmortyapi.com/api/episode/24', 'https://rickandmortyapi.com/api/episode/25', 'https://rickandmortyapi.com/api/episode/26', 'https://rickandmortyapi.com/api/episode/27', 'https://rickandmortyapi.com/api/episode/28', 'https://rickandmortyapi.com/api/episode/29', 'https://rickandmortyapi.com/api/episode/30', 'https://rickandmortyapi.com/api/episode/31', 'https://rickandmortyapi.com/api/episode/32', 'https://rickandmortyapi.com/api/episode/33', 'https://rickandmortyapi.com/api/episode/34', 'https://rickandmortyapi.com/api/episode/35', 'https://rickandmortyapi.com/api/episode/36', 'https://rickandmortyapi.com/api/episode/38', 'https://rickandmortyapi.com/api/episode/39', 'https://rickandmortyapi.com/api/episode/40', 'https://rickandmortyapi.com/api/episode/41', 'https://rickandmortyapi.com/api/episode/42', 'https://rickandmortyapi.com/api/episode/43', 'https://rickandmortyapi.com/api/episode/44', 'https://rickandmortyapi.com/api/episode/45', 'https://rickandmortyapi.com/api/episode/46', 'https://rickandmortyapi.com/api/episode/47', 'https://rickandmortyapi.com/api/episode/48', 'https://rickandmortyapi.com/api/episode/49', 'https://rickandmortyapi.com/api/episode/51'], 'url': 'https://rickandmortyapi.com/api/character/4', 'created': '2017-11-04T19:22:43.665Z'}, {'id': 5, 'name': 'Jerry Smith', 'status': 'Alive', 'species': 'Human', 'type': '', 'gender': 'Male', 'origin': {'name': 'Earth (Replacement Dimension)', 'url': 'https://rickandmortyapi.com/api/location/20'}, 'location': {'name': 'Earth (Replacement Dimension)', 'url': 'https://rickandmortyapi.com/api/location/20'}, 'image': 'https://rickandmortyapi.com/api/character/avatar/5.jpeg', 'episode': ['https://rickandmortyapi.com/api/episode/6', 'https://rickandmortyapi.com/api/episode/7', 'https://rickandmortyapi.com/api/episode/8', 'https://rickandmortyapi.com/api/episode/9', 'https://rickandmortyapi.com/api/episode/10', 'https://rickandmortyapi.com/api/episode/11', 'https://rickandmortyapi.com/api/episode/12', 'https://rickandmortyapi.com/api/episode/13', 'https://rickandmortyapi.com/api/episode/14', 'https://rickandmortyapi.com/api/episode/15', 'https://rickandmortyapi.com/api/episode/16', 'https://rickandmortyapi.com/api/episode/18', 'https://rickandmortyapi.com/api/episode/19', 'https://rickandmortyapi.com/api/episode/20', 'https://rickandmortyapi.com/api/episode/21', 'https://rickandmortyapi.com/api/episode/22', 'https://rickandmortyapi.com/api/episode/23', 'https://rickandmortyapi.com/api/episode/26', 'https://rickandmortyapi.com/api/episode/29', 'https://rickandmortyapi.com/api/episode/30', 'https://rickandmortyapi.com/api/episode/31', 'https://rickandmortyapi.com/api/episode/32', 'https://rickandmortyapi.com/api/episode/33', 'https://rickandmortyapi.com/api/episode/35', 'https://rickandmortyapi.com/api/episode/36', 'https://rickandmortyapi.com/api/episode/38', 'https://rickandmortyapi.com/api/episode/39', 'https://rickandmortyapi.com/api/episode/40', 'https://rickandmortyapi.com/api/episode/41', 'https://rickandmortyapi.com/api/episode/42', 'https://rickandmortyapi.com/api/episode/43', 'https://rickandmortyapi.com/api/episode/44', 'https://rickandmortyapi.com/api/episode/45', 'https://rickandmortyapi.com/api/episode/46', 'https://rickandmortyapi.com/api/episode/47', 'https://rickandmortyapi.com/api/episode/48', 'https://rickandmortyapi.com/api/episode/49', 'https://rickandmortyapi.com/api/episode/50', 'https://rickandmortyapi.com/api/episode/51'], 'url': 'https://rickandmortyapi.com/api/character/5', 'created': '2017-11-04T19:26:56.301Z'}, {'id': 6, 'name': 'Abadango Cluster Princess', 'status': 'Alive', 'species': 'Alien', 'type': '', 'gender': 'Female', 'origin': {'name': 'Abadango', 'url': 'https://rickandmortyapi.com/api/location/2'}, 'location': {'name': 'Abadango', 'url': 'https://rickandmortyapi.com/api/location/2'}, 'image': 'https://rickandmortyapi.com/api/character/avatar/6.jpeg', 'episode': ['https://rickandmortyapi.com/api/episode/27'], 'url': 'https://rickandmortyapi.com/api/character/6', 'created': '2017-11-04T19:50:28.250Z'}, {'id': 7, 'name': 'Abradolf Lincler', 'status': 'unknown', 'species': 'Human', 'type': 'Genetic experiment', 'gender': 'Male', 'origin': {'name': 'Earth (Replacement Dimension)', 'url': 'https://rickandmortyapi.com/api/location/20'}, 'location': {'name': 'Testicle Monster Dimension', 'url': 'https://rickandmortyapi.com/api/location/21'}, 'image': 'https://rickandmortyapi.com/api/character/avatar/7.jpeg', 'episode': ['https://rickandmortyapi.com/api/episode/10', 'https://rickandmortyapi.com/api/episode/11'], 'url': 'https://rickandmortyapi.com/api/character/7', 'created': '2017-11-04T19:59:20.523Z'}, {'id': 8, 'name': 'Adjudicator Rick', 'status': 'Dead', 'species': 'Human', 'type': '', 'gender': 'Male', 'origin': {'name': 'unknown', 'url': ''}, 'location': {'name': 'Citadel of Ricks', 'url': 'https://rickandmortyapi.com/api/location/3'}, 'image': 'https://rickandmortyapi.com/api/character/avatar/8.jpeg', 'episode': ['https://rickandmortyapi.com/api/episode/28'], 'url': 'https://rickandmortyapi.com/api/character/8', 'created': '2017-11-04T20:03:34.737Z'}, {'id': 9, 'name': 'Agency Director', 'status': 'Dead', 'species': 'Human', 'type': '', 'gender': 'Male', 'origin': {'name': 'Earth (Replacement Dimension)', 'url': 'https://rickandmortyapi.com/api/location/20'}, 'location': {'name': 'Earth (Replacement Dimension)', 'url': 'https://rickandmortyapi.com/api/location/20'}, 'image': 'https://rickandmortyapi.com/api/character/avatar/9.jpeg', 'episode': ['https://rickandmortyapi.com/api/episode/24'], 'url': 'https://rickandmortyapi.com/api/character/9', 'created': '2017-11-04T20:06:54.976Z'}, {'id': 10, 'name': 'Alan Rails', 'status': 'Dead', 'species': 'Human', 'type': 'Superhuman (Ghost trains summoner)', 'gender': 'Male', 'origin': {'name': 'unknown', 'url': ''}, 'location': {'name': \"Worldender's lair\", 'url': 'https://rickandmortyapi.com/api/location/4'}, 'image': 'https://rickandmortyapi.com/api/character/avatar/10.jpeg', 'episode': ['https://rickandmortyapi.com/api/episode/25'], 'url': 'https://rickandmortyapi.com/api/character/10', 'created': '2017-11-04T20:19:09.017Z'}, {'id': 11, 'name': 'Albert Einstein', 'status': 'Dead', 'species': 'Human', 'type': '', 'gender': 'Male', 'origin': {'name': 'Earth (C-137)', 'url': 'https://rickandmortyapi.com/api/location/1'}, 'location': {'name': 'Earth (Replacement Dimension)', 'url': 'https://rickandmortyapi.com/api/location/20'}, 'image': 'https://rickandmortyapi.com/api/character/avatar/11.jpeg', 'episode': ['https://rickandmortyapi.com/api/episode/12'], 'url': 'https://rickandmortyapi.com/api/character/11', 'created': '2017-11-04T20:20:20.965Z'}, {'id': 12, 'name': 'Alexander', 'status': 'Dead', 'species': 'Human', 'type': '', 'gender': 'Male', 'origin': {'name': 'Earth (C-137)', 'url': 'https://rickandmortyapi.com/api/location/1'}, 'location': {'name': 'Anatomy Park', 'url': 'https://rickandmortyapi.com/api/location/5'}, 'image': 'https://rickandmortyapi.com/api/character/avatar/12.jpeg', 'episode': ['https://rickandmortyapi.com/api/episode/3'], 'url': 'https://rickandmortyapi.com/api/character/12', 'created': '2017-11-04T20:32:33.144Z'}, {'id': 13, 'name': 'Alien Googah', 'status': 'unknown', 'species': 'Alien', 'type': '', 'gender': 'unknown', 'origin': {'name': 'unknown', 'url': ''}, 'location': {'name': 'Earth (Replacement Dimension)', 'url': 'https://rickandmortyapi.com/api/location/20'}, 'image': 'https://rickandmortyapi.com/api/character/avatar/13.jpeg', 'episode': ['https://rickandmortyapi.com/api/episode/31'], 'url': 'https://rickandmortyapi.com/api/character/13', 'created': '2017-11-04T20:33:30.779Z'}, {'id': 14, 'name': 'Alien Morty', 'status': 'unknown', 'species': 'Alien', 'type': '', 'gender': 'Male', 'origin': {'name': 'unknown', 'url': ''}, 'location': {'name': 'Citadel of Ricks', 'url': 'https://rickandmortyapi.com/api/location/3'}, 'image': 'https://rickandmortyapi.com/api/character/avatar/14.jpeg', 'episode': ['https://rickandmortyapi.com/api/episode/10'], 'url': 'https://rickandmortyapi.com/api/character/14', 'created': '2017-11-04T20:51:31.373Z'}, {'id': 15, 'name': 'Alien Rick', 'status': 'unknown', 'species': 'Alien', 'type': '', 'gender': 'Male', 'origin': {'name': 'unknown', 'url': ''}, 'location': {'name': 'Citadel of Ricks', 'url': 'https://rickandmortyapi.com/api/location/3'}, 'image': 'https://rickandmortyapi.com/api/character/avatar/15.jpeg', 'episode': ['https://rickandmortyapi.com/api/episode/10'], 'url': 'https://rickandmortyapi.com/api/character/15', 'created': '2017-11-04T20:56:13.215Z'}, {'id': 16, 'name': 'Amish Cyborg', 'status': 'Dead', 'species': 'Alien', 'type': 'Parasite', 'gender': 'Male', 'origin': {'name': 'unknown', 'url': ''}, 'location': {'name': 'Earth (Replacement Dimension)', 'url': 'https://rickandmortyapi.com/api/location/20'}, 'image': 'https://rickandmortyapi.com/api/character/avatar/16.jpeg', 'episode': ['https://rickandmortyapi.com/api/episode/15'], 'url': 'https://rickandmortyapi.com/api/character/16', 'created': '2017-11-04T21:12:45.235Z'}, {'id': 17, 'name': 'Annie', 'status': 'Alive', 'species': 'Human', 'type': '', 'gender': 'Female', 'origin': {'name': 'Earth (C-137)', 'url': 'https://rickandmortyapi.com/api/location/1'}, 'location': {'name': 'Anatomy Park', 'url': 'https://rickandmortyapi.com/api/location/5'}, 'image': 'https://rickandmortyapi.com/api/character/avatar/17.jpeg', 'episode': ['https://rickandmortyapi.com/api/episode/3'], 'url': 'https://rickandmortyapi.com/api/character/17', 'created': '2017-11-04T22:21:24.481Z'}, {'id': 18, 'name': 'Antenna Morty', 'status': 'Alive', 'species': 'Human', 'type': 'Human with antennae', 'gender': 'Male', 'origin': {'name': 'unknown', 'url': ''}, 'location': {'name': 'Citadel of Ricks', 'url': 'https://rickandmortyapi.com/api/location/3'}, 'image': 'https://rickandmortyapi.com/api/character/avatar/18.jpeg', 'episode': ['https://rickandmortyapi.com/api/episode/10', 'https://rickandmortyapi.com/api/episode/28'], 'url': 'https://rickandmortyapi.com/api/character/18', 'created': '2017-11-04T22:25:29.008Z'}, {'id': 19, 'name': 'Antenna Rick', 'status': 'unknown', 'species': 'Human', 'type': 'Human with antennae', 'gender': 'Male', 'origin': {'name': 'unknown', 'url': ''}, 'location': {'name': 'unknown', 'url': ''}, 'image': 'https://rickandmortyapi.com/api/character/avatar/19.jpeg', 'episode': ['https://rickandmortyapi.com/api/episode/10'], 'url': 'https://rickandmortyapi.com/api/character/19', 'created': '2017-11-04T22:28:13.756Z'}, {'id': 20, 'name': 'Ants in my Eyes Johnson', 'status': 'unknown', 'species': 'Human', 'type': 'Human with ants in his eyes', 'gender': 'Male', 'origin': {'name': 'unknown', 'url': ''}, 'location': {'name': 'Interdimensional Cable', 'url': 'https://rickandmortyapi.com/api/location/6'}, 'image': 'https://rickandmortyapi.com/api/character/avatar/20.jpeg', 'episode': ['https://rickandmortyapi.com/api/episode/8'], 'url': 'https://rickandmortyapi.com/api/character/20', 'created': '2017-11-04T22:34:53.659Z'}]}\n"
     ]
    }
   ],
   "source": [
    "print(r.json())"
   ]
  },
  {
   "cell_type": "code",
   "execution_count": 37,
   "id": "b7690ec8-113d-43c9-bfdc-ac8faec591d5",
   "metadata": {},
   "outputs": [
    {
     "name": "stdout",
     "output_type": "stream",
     "text": [
      "{'count': 826, 'pages': 42, 'next': 'https://rickandmortyapi.com/api/character?page=2', 'prev': None}\n"
     ]
    }
   ],
   "source": [
    "data=r.json()\n",
    "print(data['info'])"
   ]
  },
  {
   "cell_type": "code",
   "execution_count": 39,
   "id": "848d8448-072e-4fca-8ee5-5691ee5addb3",
   "metadata": {},
   "outputs": [
    {
     "name": "stdout",
     "output_type": "stream",
     "text": [
      "42\n"
     ]
    }
   ],
   "source": [
    "   pages=print(data['info']['pages']) "
   ]
  },
  {
   "cell_type": "code",
   "execution_count": 41,
   "id": "fe8ad017-ac6c-4791-9167-c25c835a1a34",
   "metadata": {},
   "outputs": [
    {
     "name": "stdout",
     "output_type": "stream",
     "text": [
      "{'id': 1, 'name': 'Rick Sanchez', 'status': 'Alive', 'species': 'Human', 'type': '', 'gender': 'Male', 'origin': {'name': 'Earth (C-137)', 'url': 'https://rickandmortyapi.com/api/location/1'}, 'location': {'name': 'Citadel of Ricks', 'url': 'https://rickandmortyapi.com/api/location/3'}, 'image': 'https://rickandmortyapi.com/api/character/avatar/1.jpeg', 'episode': ['https://rickandmortyapi.com/api/episode/1', 'https://rickandmortyapi.com/api/episode/2', 'https://rickandmortyapi.com/api/episode/3', 'https://rickandmortyapi.com/api/episode/4', 'https://rickandmortyapi.com/api/episode/5', 'https://rickandmortyapi.com/api/episode/6', 'https://rickandmortyapi.com/api/episode/7', 'https://rickandmortyapi.com/api/episode/8', 'https://rickandmortyapi.com/api/episode/9', 'https://rickandmortyapi.com/api/episode/10', 'https://rickandmortyapi.com/api/episode/11', 'https://rickandmortyapi.com/api/episode/12', 'https://rickandmortyapi.com/api/episode/13', 'https://rickandmortyapi.com/api/episode/14', 'https://rickandmortyapi.com/api/episode/15', 'https://rickandmortyapi.com/api/episode/16', 'https://rickandmortyapi.com/api/episode/17', 'https://rickandmortyapi.com/api/episode/18', 'https://rickandmortyapi.com/api/episode/19', 'https://rickandmortyapi.com/api/episode/20', 'https://rickandmortyapi.com/api/episode/21', 'https://rickandmortyapi.com/api/episode/22', 'https://rickandmortyapi.com/api/episode/23', 'https://rickandmortyapi.com/api/episode/24', 'https://rickandmortyapi.com/api/episode/25', 'https://rickandmortyapi.com/api/episode/26', 'https://rickandmortyapi.com/api/episode/27', 'https://rickandmortyapi.com/api/episode/28', 'https://rickandmortyapi.com/api/episode/29', 'https://rickandmortyapi.com/api/episode/30', 'https://rickandmortyapi.com/api/episode/31', 'https://rickandmortyapi.com/api/episode/32', 'https://rickandmortyapi.com/api/episode/33', 'https://rickandmortyapi.com/api/episode/34', 'https://rickandmortyapi.com/api/episode/35', 'https://rickandmortyapi.com/api/episode/36', 'https://rickandmortyapi.com/api/episode/37', 'https://rickandmortyapi.com/api/episode/38', 'https://rickandmortyapi.com/api/episode/39', 'https://rickandmortyapi.com/api/episode/40', 'https://rickandmortyapi.com/api/episode/41', 'https://rickandmortyapi.com/api/episode/42', 'https://rickandmortyapi.com/api/episode/43', 'https://rickandmortyapi.com/api/episode/44', 'https://rickandmortyapi.com/api/episode/45', 'https://rickandmortyapi.com/api/episode/46', 'https://rickandmortyapi.com/api/episode/47', 'https://rickandmortyapi.com/api/episode/48', 'https://rickandmortyapi.com/api/episode/49', 'https://rickandmortyapi.com/api/episode/50', 'https://rickandmortyapi.com/api/episode/51'], 'url': 'https://rickandmortyapi.com/api/character/1', 'created': '2017-11-04T18:48:46.250Z'}\n"
     ]
    }
   ],
   "source": [
    "print(data['results'][0])"
   ]
  },
  {
   "cell_type": "code",
   "execution_count": 43,
   "id": "d95cc6ea-a8a8-4ac5-802d-b0bc2d8a6a91",
   "metadata": {},
   "outputs": [
    {
     "name": "stdout",
     "output_type": "stream",
     "text": [
      "Rick Sanchez\n"
     ]
    }
   ],
   "source": [
    "name=data['results'][0]['name']\n",
    "print(name)"
   ]
  },
  {
   "cell_type": "code",
   "execution_count": 45,
   "id": "907a29d7-e1dd-47dc-815b-078daf3d7626",
   "metadata": {},
   "outputs": [
    {
     "name": "stdout",
     "output_type": "stream",
     "text": [
      "['https://rickandmortyapi.com/api/episode/1', 'https://rickandmortyapi.com/api/episode/2', 'https://rickandmortyapi.com/api/episode/3', 'https://rickandmortyapi.com/api/episode/4', 'https://rickandmortyapi.com/api/episode/5', 'https://rickandmortyapi.com/api/episode/6', 'https://rickandmortyapi.com/api/episode/7', 'https://rickandmortyapi.com/api/episode/8', 'https://rickandmortyapi.com/api/episode/9', 'https://rickandmortyapi.com/api/episode/10', 'https://rickandmortyapi.com/api/episode/11', 'https://rickandmortyapi.com/api/episode/12', 'https://rickandmortyapi.com/api/episode/13', 'https://rickandmortyapi.com/api/episode/14', 'https://rickandmortyapi.com/api/episode/15', 'https://rickandmortyapi.com/api/episode/16', 'https://rickandmortyapi.com/api/episode/17', 'https://rickandmortyapi.com/api/episode/18', 'https://rickandmortyapi.com/api/episode/19', 'https://rickandmortyapi.com/api/episode/20', 'https://rickandmortyapi.com/api/episode/21', 'https://rickandmortyapi.com/api/episode/22', 'https://rickandmortyapi.com/api/episode/23', 'https://rickandmortyapi.com/api/episode/24', 'https://rickandmortyapi.com/api/episode/25', 'https://rickandmortyapi.com/api/episode/26', 'https://rickandmortyapi.com/api/episode/27', 'https://rickandmortyapi.com/api/episode/28', 'https://rickandmortyapi.com/api/episode/29', 'https://rickandmortyapi.com/api/episode/30', 'https://rickandmortyapi.com/api/episode/31', 'https://rickandmortyapi.com/api/episode/32', 'https://rickandmortyapi.com/api/episode/33', 'https://rickandmortyapi.com/api/episode/34', 'https://rickandmortyapi.com/api/episode/35', 'https://rickandmortyapi.com/api/episode/36', 'https://rickandmortyapi.com/api/episode/37', 'https://rickandmortyapi.com/api/episode/38', 'https://rickandmortyapi.com/api/episode/39', 'https://rickandmortyapi.com/api/episode/40', 'https://rickandmortyapi.com/api/episode/41', 'https://rickandmortyapi.com/api/episode/42', 'https://rickandmortyapi.com/api/episode/43', 'https://rickandmortyapi.com/api/episode/44', 'https://rickandmortyapi.com/api/episode/45', 'https://rickandmortyapi.com/api/episode/46', 'https://rickandmortyapi.com/api/episode/47', 'https://rickandmortyapi.com/api/episode/48', 'https://rickandmortyapi.com/api/episode/49', 'https://rickandmortyapi.com/api/episode/50', 'https://rickandmortyapi.com/api/episode/51']\n"
     ]
    }
   ],
   "source": [
    "episodes=data['results'][0]['episode']\n",
    "print(episodes)"
   ]
  },
  {
   "cell_type": "code",
   "execution_count": 47,
   "id": "c0b1f4b1-1355-4484-9276-050d52ba61bd",
   "metadata": {},
   "outputs": [
    {
     "name": "stdout",
     "output_type": "stream",
     "text": [
      "51\n"
     ]
    }
   ],
   "source": [
    "print(len(episodes))"
   ]
  },
  {
   "cell_type": "code",
   "execution_count": 61,
   "id": "6a4d3114-5b97-4686-8c1f-811f9c2181a1",
   "metadata": {},
   "outputs": [],
   "source": [
    "def main_request(baseurl,endpoint,x):\n",
    "    r=requests.get(baseurl+endpoint + f\"?page={x}\")\n",
    "    return r.json()"
   ]
  },
  {
   "cell_type": "code",
   "execution_count": 63,
   "id": "df476019-8819-483e-9132-53a11e8260b3",
   "metadata": {},
   "outputs": [],
   "source": [
    "def get_pages(response):\n",
    "    return response['info']['pages']\n",
    "    "
   ]
  },
  {
   "cell_type": "code",
   "execution_count": 65,
   "id": "dd79ea3a-401f-4e1e-9429-b50b74149b31",
   "metadata": {},
   "outputs": [],
   "source": [
    "def parse_json(response):\n",
    "    charlist=[]\n",
    "    for item in response['results']:\n",
    "        \n",
    "        char={\n",
    "            \"name\": item['name'],\n",
    "            'no_ep':len(item['episode']) \n",
    "                }\n",
    "        charlist.append(char)\n",
    "    return charlist"
   ]
  },
  {
   "cell_type": "code",
   "execution_count": 67,
   "id": "aab70f6c-f68b-4972-9dc0-3495298aee12",
   "metadata": {},
   "outputs": [],
   "source": [
    "baseurl=\"https://rickandmortyapi.com/api/\"\n",
    "endpoint=\"character\"\n",
    "\n",
    "data=main_request(baseurl , endpoint,1)"
   ]
  },
  {
   "cell_type": "code",
   "execution_count": null,
   "id": "d7534c0a-33a1-4098-a080-fd0058f0521a",
   "metadata": {},
   "outputs": [],
   "source": []
  },
  {
   "cell_type": "code",
   "execution_count": 71,
   "id": "92c349f2-c38c-429a-b4d5-05ec9621463a",
   "metadata": {},
   "outputs": [
    {
     "name": "stdout",
     "output_type": "stream",
     "text": [
      "[{'name': 'Rick Sanchez', 'no_ep': 51}, {'name': 'Morty Smith', 'no_ep': 51}, {'name': 'Summer Smith', 'no_ep': 42}, {'name': 'Beth Smith', 'no_ep': 42}, {'name': 'Jerry Smith', 'no_ep': 39}, {'name': 'Abadango Cluster Princess', 'no_ep': 1}, {'name': 'Abradolf Lincler', 'no_ep': 2}, {'name': 'Adjudicator Rick', 'no_ep': 1}, {'name': 'Agency Director', 'no_ep': 1}, {'name': 'Alan Rails', 'no_ep': 1}, {'name': 'Albert Einstein', 'no_ep': 1}, {'name': 'Alexander', 'no_ep': 1}, {'name': 'Alien Googah', 'no_ep': 1}, {'name': 'Alien Morty', 'no_ep': 1}, {'name': 'Alien Rick', 'no_ep': 1}, {'name': 'Amish Cyborg', 'no_ep': 1}, {'name': 'Annie', 'no_ep': 1}, {'name': 'Antenna Morty', 'no_ep': 2}, {'name': 'Antenna Rick', 'no_ep': 1}, {'name': 'Ants in my Eyes Johnson', 'no_ep': 1}]\n"
     ]
    }
   ],
   "source": [
    "print(parse_json(data))"
   ]
  },
  {
   "cell_type": "code",
   "execution_count": 73,
   "id": "44eb2516-051c-44dd-9594-cd181e37c70c",
   "metadata": {},
   "outputs": [
    {
     "name": "stdout",
     "output_type": "stream",
     "text": [
      "[{'name': 'Aqua Morty', 'no_ep': 2}, {'name': 'Aqua Rick', 'no_ep': 3}, {'name': 'Arcade Alien', 'no_ep': 5}, {'name': 'Armagheadon', 'no_ep': 1}, {'name': 'Armothy', 'no_ep': 1}, {'name': 'Arthricia', 'no_ep': 1}, {'name': 'Artist Morty', 'no_ep': 2}, {'name': 'Attila Starwar', 'no_ep': 3}, {'name': 'Baby Legs', 'no_ep': 1}, {'name': 'Baby Poopybutthole', 'no_ep': 1}, {'name': 'Baby Wizard', 'no_ep': 1}, {'name': 'Bearded Lady', 'no_ep': 1}, {'name': 'Beebo', 'no_ep': 1}, {'name': 'Benjamin', 'no_ep': 3}, {'name': 'Bepisian', 'no_ep': 4}, {'name': 'Beta-Seven', 'no_ep': 1}, {'name': 'Beth Sanchez', 'no_ep': 1}, {'name': 'Beth Smith', 'no_ep': 8}, {'name': 'Beth Smith', 'no_ep': 1}, {'name': \"Beth's Mytholog\", 'no_ep': 1}]\n"
     ]
    }
   ],
   "source": [
    "data=main_request(baseurl , endpoint,2) #pagination is working !\n",
    "print(parse_json(data))"
   ]
  },
  {
   "cell_type": "code",
   "execution_count": 75,
   "id": "bb7dccf3-a304-4694-a624-07deba695ef8",
   "metadata": {},
   "outputs": [
    {
     "name": "stdout",
     "output_type": "stream",
     "text": [
      "1\n",
      "2\n",
      "3\n",
      "4\n",
      "5\n",
      "6\n",
      "7\n",
      "8\n",
      "9\n",
      "10\n",
      "11\n",
      "12\n",
      "13\n",
      "14\n",
      "15\n",
      "16\n",
      "17\n",
      "18\n",
      "19\n",
      "20\n",
      "21\n",
      "22\n",
      "23\n",
      "24\n",
      "25\n",
      "26\n",
      "27\n",
      "28\n",
      "29\n",
      "30\n",
      "31\n",
      "32\n",
      "33\n",
      "34\n",
      "35\n",
      "36\n",
      "37\n",
      "38\n",
      "39\n",
      "40\n",
      "41\n",
      "42\n"
     ]
    }
   ],
   "source": [
    "data=main_request(baseurl , endpoint,1)\n",
    "for x in range(1, get_pages(data)+1):\n",
    "    print(x)"
   ]
  },
  {
   "cell_type": "code",
   "execution_count": 77,
   "id": "7518a2fa-2460-44b2-8e98-3ce1e5f911ce",
   "metadata": {},
   "outputs": [
    {
     "name": "stdout",
     "output_type": "stream",
     "text": [
      "1\n",
      "2\n",
      "3\n",
      "4\n",
      "5\n",
      "6\n",
      "7\n",
      "8\n",
      "9\n",
      "10\n",
      "11\n",
      "12\n",
      "13\n",
      "14\n",
      "15\n",
      "16\n",
      "17\n",
      "18\n",
      "19\n",
      "20\n",
      "21\n",
      "22\n",
      "23\n",
      "24\n",
      "25\n",
      "26\n",
      "27\n",
      "28\n",
      "29\n",
      "30\n",
      "31\n",
      "32\n",
      "33\n",
      "34\n",
      "35\n",
      "36\n",
      "37\n",
      "38\n",
      "39\n",
      "40\n",
      "41\n",
      "42\n",
      "[{'name': 'Rick Sanchez', 'no_ep': 51}, {'name': 'Morty Smith', 'no_ep': 51}, {'name': 'Summer Smith', 'no_ep': 42}, {'name': 'Beth Smith', 'no_ep': 42}, {'name': 'Jerry Smith', 'no_ep': 39}, {'name': 'Abadango Cluster Princess', 'no_ep': 1}, {'name': 'Abradolf Lincler', 'no_ep': 2}, {'name': 'Adjudicator Rick', 'no_ep': 1}, {'name': 'Agency Director', 'no_ep': 1}, {'name': 'Alan Rails', 'no_ep': 1}, {'name': 'Albert Einstein', 'no_ep': 1}, {'name': 'Alexander', 'no_ep': 1}, {'name': 'Alien Googah', 'no_ep': 1}, {'name': 'Alien Morty', 'no_ep': 1}, {'name': 'Alien Rick', 'no_ep': 1}, {'name': 'Amish Cyborg', 'no_ep': 1}, {'name': 'Annie', 'no_ep': 1}, {'name': 'Antenna Morty', 'no_ep': 2}, {'name': 'Antenna Rick', 'no_ep': 1}, {'name': 'Ants in my Eyes Johnson', 'no_ep': 1}, {'name': 'Rick Sanchez', 'no_ep': 51}, {'name': 'Morty Smith', 'no_ep': 51}, {'name': 'Summer Smith', 'no_ep': 42}, {'name': 'Beth Smith', 'no_ep': 42}, {'name': 'Jerry Smith', 'no_ep': 39}, {'name': 'Abadango Cluster Princess', 'no_ep': 1}, {'name': 'Abradolf Lincler', 'no_ep': 2}, {'name': 'Adjudicator Rick', 'no_ep': 1}, {'name': 'Agency Director', 'no_ep': 1}, {'name': 'Alan Rails', 'no_ep': 1}, {'name': 'Albert Einstein', 'no_ep': 1}, {'name': 'Alexander', 'no_ep': 1}, {'name': 'Alien Googah', 'no_ep': 1}, {'name': 'Alien Morty', 'no_ep': 1}, {'name': 'Alien Rick', 'no_ep': 1}, {'name': 'Amish Cyborg', 'no_ep': 1}, {'name': 'Annie', 'no_ep': 1}, {'name': 'Antenna Morty', 'no_ep': 2}, {'name': 'Antenna Rick', 'no_ep': 1}, {'name': 'Ants in my Eyes Johnson', 'no_ep': 1}, {'name': 'Rick Sanchez', 'no_ep': 51}, {'name': 'Morty Smith', 'no_ep': 51}, {'name': 'Summer Smith', 'no_ep': 42}, {'name': 'Beth Smith', 'no_ep': 42}, {'name': 'Jerry Smith', 'no_ep': 39}, {'name': 'Abadango Cluster Princess', 'no_ep': 1}, {'name': 'Abradolf Lincler', 'no_ep': 2}, {'name': 'Adjudicator Rick', 'no_ep': 1}, {'name': 'Agency Director', 'no_ep': 1}, {'name': 'Alan Rails', 'no_ep': 1}, {'name': 'Albert Einstein', 'no_ep': 1}, {'name': 'Alexander', 'no_ep': 1}, {'name': 'Alien Googah', 'no_ep': 1}, {'name': 'Alien Morty', 'no_ep': 1}, {'name': 'Alien Rick', 'no_ep': 1}, {'name': 'Amish Cyborg', 'no_ep': 1}, {'name': 'Annie', 'no_ep': 1}, {'name': 'Antenna Morty', 'no_ep': 2}, {'name': 'Antenna Rick', 'no_ep': 1}, {'name': 'Ants in my Eyes Johnson', 'no_ep': 1}, {'name': 'Rick Sanchez', 'no_ep': 51}, {'name': 'Morty Smith', 'no_ep': 51}, {'name': 'Summer Smith', 'no_ep': 42}, {'name': 'Beth Smith', 'no_ep': 42}, {'name': 'Jerry Smith', 'no_ep': 39}, {'name': 'Abadango Cluster Princess', 'no_ep': 1}, {'name': 'Abradolf Lincler', 'no_ep': 2}, {'name': 'Adjudicator Rick', 'no_ep': 1}, {'name': 'Agency Director', 'no_ep': 1}, {'name': 'Alan Rails', 'no_ep': 1}, {'name': 'Albert Einstein', 'no_ep': 1}, {'name': 'Alexander', 'no_ep': 1}, {'name': 'Alien Googah', 'no_ep': 1}, {'name': 'Alien Morty', 'no_ep': 1}, {'name': 'Alien Rick', 'no_ep': 1}, {'name': 'Amish Cyborg', 'no_ep': 1}, {'name': 'Annie', 'no_ep': 1}, {'name': 'Antenna Morty', 'no_ep': 2}, {'name': 'Antenna Rick', 'no_ep': 1}, {'name': 'Ants in my Eyes Johnson', 'no_ep': 1}, {'name': 'Rick Sanchez', 'no_ep': 51}, {'name': 'Morty Smith', 'no_ep': 51}, {'name': 'Summer Smith', 'no_ep': 42}, {'name': 'Beth Smith', 'no_ep': 42}, {'name': 'Jerry Smith', 'no_ep': 39}, {'name': 'Abadango Cluster Princess', 'no_ep': 1}, {'name': 'Abradolf Lincler', 'no_ep': 2}, {'name': 'Adjudicator Rick', 'no_ep': 1}, {'name': 'Agency Director', 'no_ep': 1}, {'name': 'Alan Rails', 'no_ep': 1}, {'name': 'Albert Einstein', 'no_ep': 1}, {'name': 'Alexander', 'no_ep': 1}, {'name': 'Alien Googah', 'no_ep': 1}, {'name': 'Alien Morty', 'no_ep': 1}, {'name': 'Alien Rick', 'no_ep': 1}, {'name': 'Amish Cyborg', 'no_ep': 1}, {'name': 'Annie', 'no_ep': 1}, {'name': 'Antenna Morty', 'no_ep': 2}, {'name': 'Antenna Rick', 'no_ep': 1}, {'name': 'Ants in my Eyes Johnson', 'no_ep': 1}, {'name': 'Rick Sanchez', 'no_ep': 51}, {'name': 'Morty Smith', 'no_ep': 51}, {'name': 'Summer Smith', 'no_ep': 42}, {'name': 'Beth Smith', 'no_ep': 42}, {'name': 'Jerry Smith', 'no_ep': 39}, {'name': 'Abadango Cluster Princess', 'no_ep': 1}, {'name': 'Abradolf Lincler', 'no_ep': 2}, {'name': 'Adjudicator Rick', 'no_ep': 1}, {'name': 'Agency Director', 'no_ep': 1}, {'name': 'Alan Rails', 'no_ep': 1}, {'name': 'Albert Einstein', 'no_ep': 1}, {'name': 'Alexander', 'no_ep': 1}, {'name': 'Alien Googah', 'no_ep': 1}, {'name': 'Alien Morty', 'no_ep': 1}, {'name': 'Alien Rick', 'no_ep': 1}, {'name': 'Amish Cyborg', 'no_ep': 1}, {'name': 'Annie', 'no_ep': 1}, {'name': 'Antenna Morty', 'no_ep': 2}, {'name': 'Antenna Rick', 'no_ep': 1}, {'name': 'Ants in my Eyes Johnson', 'no_ep': 1}, {'name': 'Rick Sanchez', 'no_ep': 51}, {'name': 'Morty Smith', 'no_ep': 51}, {'name': 'Summer Smith', 'no_ep': 42}, {'name': 'Beth Smith', 'no_ep': 42}, {'name': 'Jerry Smith', 'no_ep': 39}, {'name': 'Abadango Cluster Princess', 'no_ep': 1}, {'name': 'Abradolf Lincler', 'no_ep': 2}, {'name': 'Adjudicator Rick', 'no_ep': 1}, {'name': 'Agency Director', 'no_ep': 1}, {'name': 'Alan Rails', 'no_ep': 1}, {'name': 'Albert Einstein', 'no_ep': 1}, {'name': 'Alexander', 'no_ep': 1}, {'name': 'Alien Googah', 'no_ep': 1}, {'name': 'Alien Morty', 'no_ep': 1}, {'name': 'Alien Rick', 'no_ep': 1}, {'name': 'Amish Cyborg', 'no_ep': 1}, {'name': 'Annie', 'no_ep': 1}, {'name': 'Antenna Morty', 'no_ep': 2}, {'name': 'Antenna Rick', 'no_ep': 1}, {'name': 'Ants in my Eyes Johnson', 'no_ep': 1}, {'name': 'Rick Sanchez', 'no_ep': 51}, {'name': 'Morty Smith', 'no_ep': 51}, {'name': 'Summer Smith', 'no_ep': 42}, {'name': 'Beth Smith', 'no_ep': 42}, {'name': 'Jerry Smith', 'no_ep': 39}, {'name': 'Abadango Cluster Princess', 'no_ep': 1}, {'name': 'Abradolf Lincler', 'no_ep': 2}, {'name': 'Adjudicator Rick', 'no_ep': 1}, {'name': 'Agency Director', 'no_ep': 1}, {'name': 'Alan Rails', 'no_ep': 1}, {'name': 'Albert Einstein', 'no_ep': 1}, {'name': 'Alexander', 'no_ep': 1}, {'name': 'Alien Googah', 'no_ep': 1}, {'name': 'Alien Morty', 'no_ep': 1}, {'name': 'Alien Rick', 'no_ep': 1}, {'name': 'Amish Cyborg', 'no_ep': 1}, {'name': 'Annie', 'no_ep': 1}, {'name': 'Antenna Morty', 'no_ep': 2}, {'name': 'Antenna Rick', 'no_ep': 1}, {'name': 'Ants in my Eyes Johnson', 'no_ep': 1}, {'name': 'Rick Sanchez', 'no_ep': 51}, {'name': 'Morty Smith', 'no_ep': 51}, {'name': 'Summer Smith', 'no_ep': 42}, {'name': 'Beth Smith', 'no_ep': 42}, {'name': 'Jerry Smith', 'no_ep': 39}, {'name': 'Abadango Cluster Princess', 'no_ep': 1}, {'name': 'Abradolf Lincler', 'no_ep': 2}, {'name': 'Adjudicator Rick', 'no_ep': 1}, {'name': 'Agency Director', 'no_ep': 1}, {'name': 'Alan Rails', 'no_ep': 1}, {'name': 'Albert Einstein', 'no_ep': 1}, {'name': 'Alexander', 'no_ep': 1}, {'name': 'Alien Googah', 'no_ep': 1}, {'name': 'Alien Morty', 'no_ep': 1}, {'name': 'Alien Rick', 'no_ep': 1}, {'name': 'Amish Cyborg', 'no_ep': 1}, {'name': 'Annie', 'no_ep': 1}, {'name': 'Antenna Morty', 'no_ep': 2}, {'name': 'Antenna Rick', 'no_ep': 1}, {'name': 'Ants in my Eyes Johnson', 'no_ep': 1}, {'name': 'Rick Sanchez', 'no_ep': 51}, {'name': 'Morty Smith', 'no_ep': 51}, {'name': 'Summer Smith', 'no_ep': 42}, {'name': 'Beth Smith', 'no_ep': 42}, {'name': 'Jerry Smith', 'no_ep': 39}, {'name': 'Abadango Cluster Princess', 'no_ep': 1}, {'name': 'Abradolf Lincler', 'no_ep': 2}, {'name': 'Adjudicator Rick', 'no_ep': 1}, {'name': 'Agency Director', 'no_ep': 1}, {'name': 'Alan Rails', 'no_ep': 1}, {'name': 'Albert Einstein', 'no_ep': 1}, {'name': 'Alexander', 'no_ep': 1}, {'name': 'Alien Googah', 'no_ep': 1}, {'name': 'Alien Morty', 'no_ep': 1}, {'name': 'Alien Rick', 'no_ep': 1}, {'name': 'Amish Cyborg', 'no_ep': 1}, {'name': 'Annie', 'no_ep': 1}, {'name': 'Antenna Morty', 'no_ep': 2}, {'name': 'Antenna Rick', 'no_ep': 1}, {'name': 'Ants in my Eyes Johnson', 'no_ep': 1}, {'name': 'Rick Sanchez', 'no_ep': 51}, {'name': 'Morty Smith', 'no_ep': 51}, {'name': 'Summer Smith', 'no_ep': 42}, {'name': 'Beth Smith', 'no_ep': 42}, {'name': 'Jerry Smith', 'no_ep': 39}, {'name': 'Abadango Cluster Princess', 'no_ep': 1}, {'name': 'Abradolf Lincler', 'no_ep': 2}, {'name': 'Adjudicator Rick', 'no_ep': 1}, {'name': 'Agency Director', 'no_ep': 1}, {'name': 'Alan Rails', 'no_ep': 1}, {'name': 'Albert Einstein', 'no_ep': 1}, {'name': 'Alexander', 'no_ep': 1}, {'name': 'Alien Googah', 'no_ep': 1}, {'name': 'Alien Morty', 'no_ep': 1}, {'name': 'Alien Rick', 'no_ep': 1}, {'name': 'Amish Cyborg', 'no_ep': 1}, {'name': 'Annie', 'no_ep': 1}, {'name': 'Antenna Morty', 'no_ep': 2}, {'name': 'Antenna Rick', 'no_ep': 1}, {'name': 'Ants in my Eyes Johnson', 'no_ep': 1}, {'name': 'Rick Sanchez', 'no_ep': 51}, {'name': 'Morty Smith', 'no_ep': 51}, {'name': 'Summer Smith', 'no_ep': 42}, {'name': 'Beth Smith', 'no_ep': 42}, {'name': 'Jerry Smith', 'no_ep': 39}, {'name': 'Abadango Cluster Princess', 'no_ep': 1}, {'name': 'Abradolf Lincler', 'no_ep': 2}, {'name': 'Adjudicator Rick', 'no_ep': 1}, {'name': 'Agency Director', 'no_ep': 1}, {'name': 'Alan Rails', 'no_ep': 1}, {'name': 'Albert Einstein', 'no_ep': 1}, {'name': 'Alexander', 'no_ep': 1}, {'name': 'Alien Googah', 'no_ep': 1}, {'name': 'Alien Morty', 'no_ep': 1}, {'name': 'Alien Rick', 'no_ep': 1}, {'name': 'Amish Cyborg', 'no_ep': 1}, {'name': 'Annie', 'no_ep': 1}, {'name': 'Antenna Morty', 'no_ep': 2}, {'name': 'Antenna Rick', 'no_ep': 1}, {'name': 'Ants in my Eyes Johnson', 'no_ep': 1}, {'name': 'Rick Sanchez', 'no_ep': 51}, {'name': 'Morty Smith', 'no_ep': 51}, {'name': 'Summer Smith', 'no_ep': 42}, {'name': 'Beth Smith', 'no_ep': 42}, {'name': 'Jerry Smith', 'no_ep': 39}, {'name': 'Abadango Cluster Princess', 'no_ep': 1}, {'name': 'Abradolf Lincler', 'no_ep': 2}, {'name': 'Adjudicator Rick', 'no_ep': 1}, {'name': 'Agency Director', 'no_ep': 1}, {'name': 'Alan Rails', 'no_ep': 1}, {'name': 'Albert Einstein', 'no_ep': 1}, {'name': 'Alexander', 'no_ep': 1}, {'name': 'Alien Googah', 'no_ep': 1}, {'name': 'Alien Morty', 'no_ep': 1}, {'name': 'Alien Rick', 'no_ep': 1}, {'name': 'Amish Cyborg', 'no_ep': 1}, {'name': 'Annie', 'no_ep': 1}, {'name': 'Antenna Morty', 'no_ep': 2}, {'name': 'Antenna Rick', 'no_ep': 1}, {'name': 'Ants in my Eyes Johnson', 'no_ep': 1}, {'name': 'Rick Sanchez', 'no_ep': 51}, {'name': 'Morty Smith', 'no_ep': 51}, {'name': 'Summer Smith', 'no_ep': 42}, {'name': 'Beth Smith', 'no_ep': 42}, {'name': 'Jerry Smith', 'no_ep': 39}, {'name': 'Abadango Cluster Princess', 'no_ep': 1}, {'name': 'Abradolf Lincler', 'no_ep': 2}, {'name': 'Adjudicator Rick', 'no_ep': 1}, {'name': 'Agency Director', 'no_ep': 1}, {'name': 'Alan Rails', 'no_ep': 1}, {'name': 'Albert Einstein', 'no_ep': 1}, {'name': 'Alexander', 'no_ep': 1}, {'name': 'Alien Googah', 'no_ep': 1}, {'name': 'Alien Morty', 'no_ep': 1}, {'name': 'Alien Rick', 'no_ep': 1}, {'name': 'Amish Cyborg', 'no_ep': 1}, {'name': 'Annie', 'no_ep': 1}, {'name': 'Antenna Morty', 'no_ep': 2}, {'name': 'Antenna Rick', 'no_ep': 1}, {'name': 'Ants in my Eyes Johnson', 'no_ep': 1}, {'name': 'Rick Sanchez', 'no_ep': 51}, {'name': 'Morty Smith', 'no_ep': 51}, {'name': 'Summer Smith', 'no_ep': 42}, {'name': 'Beth Smith', 'no_ep': 42}, {'name': 'Jerry Smith', 'no_ep': 39}, {'name': 'Abadango Cluster Princess', 'no_ep': 1}, {'name': 'Abradolf Lincler', 'no_ep': 2}, {'name': 'Adjudicator Rick', 'no_ep': 1}, {'name': 'Agency Director', 'no_ep': 1}, {'name': 'Alan Rails', 'no_ep': 1}, {'name': 'Albert Einstein', 'no_ep': 1}, {'name': 'Alexander', 'no_ep': 1}, {'name': 'Alien Googah', 'no_ep': 1}, {'name': 'Alien Morty', 'no_ep': 1}, {'name': 'Alien Rick', 'no_ep': 1}, {'name': 'Amish Cyborg', 'no_ep': 1}, {'name': 'Annie', 'no_ep': 1}, {'name': 'Antenna Morty', 'no_ep': 2}, {'name': 'Antenna Rick', 'no_ep': 1}, {'name': 'Ants in my Eyes Johnson', 'no_ep': 1}, {'name': 'Rick Sanchez', 'no_ep': 51}, {'name': 'Morty Smith', 'no_ep': 51}, {'name': 'Summer Smith', 'no_ep': 42}, {'name': 'Beth Smith', 'no_ep': 42}, {'name': 'Jerry Smith', 'no_ep': 39}, {'name': 'Abadango Cluster Princess', 'no_ep': 1}, {'name': 'Abradolf Lincler', 'no_ep': 2}, {'name': 'Adjudicator Rick', 'no_ep': 1}, {'name': 'Agency Director', 'no_ep': 1}, {'name': 'Alan Rails', 'no_ep': 1}, {'name': 'Albert Einstein', 'no_ep': 1}, {'name': 'Alexander', 'no_ep': 1}, {'name': 'Alien Googah', 'no_ep': 1}, {'name': 'Alien Morty', 'no_ep': 1}, {'name': 'Alien Rick', 'no_ep': 1}, {'name': 'Amish Cyborg', 'no_ep': 1}, {'name': 'Annie', 'no_ep': 1}, {'name': 'Antenna Morty', 'no_ep': 2}, {'name': 'Antenna Rick', 'no_ep': 1}, {'name': 'Ants in my Eyes Johnson', 'no_ep': 1}, {'name': 'Rick Sanchez', 'no_ep': 51}, {'name': 'Morty Smith', 'no_ep': 51}, {'name': 'Summer Smith', 'no_ep': 42}, {'name': 'Beth Smith', 'no_ep': 42}, {'name': 'Jerry Smith', 'no_ep': 39}, {'name': 'Abadango Cluster Princess', 'no_ep': 1}, {'name': 'Abradolf Lincler', 'no_ep': 2}, {'name': 'Adjudicator Rick', 'no_ep': 1}, {'name': 'Agency Director', 'no_ep': 1}, {'name': 'Alan Rails', 'no_ep': 1}, {'name': 'Albert Einstein', 'no_ep': 1}, {'name': 'Alexander', 'no_ep': 1}, {'name': 'Alien Googah', 'no_ep': 1}, {'name': 'Alien Morty', 'no_ep': 1}, {'name': 'Alien Rick', 'no_ep': 1}, {'name': 'Amish Cyborg', 'no_ep': 1}, {'name': 'Annie', 'no_ep': 1}, {'name': 'Antenna Morty', 'no_ep': 2}, {'name': 'Antenna Rick', 'no_ep': 1}, {'name': 'Ants in my Eyes Johnson', 'no_ep': 1}, {'name': 'Rick Sanchez', 'no_ep': 51}, {'name': 'Morty Smith', 'no_ep': 51}, {'name': 'Summer Smith', 'no_ep': 42}, {'name': 'Beth Smith', 'no_ep': 42}, {'name': 'Jerry Smith', 'no_ep': 39}, {'name': 'Abadango Cluster Princess', 'no_ep': 1}, {'name': 'Abradolf Lincler', 'no_ep': 2}, {'name': 'Adjudicator Rick', 'no_ep': 1}, {'name': 'Agency Director', 'no_ep': 1}, {'name': 'Alan Rails', 'no_ep': 1}, {'name': 'Albert Einstein', 'no_ep': 1}, {'name': 'Alexander', 'no_ep': 1}, {'name': 'Alien Googah', 'no_ep': 1}, {'name': 'Alien Morty', 'no_ep': 1}, {'name': 'Alien Rick', 'no_ep': 1}, {'name': 'Amish Cyborg', 'no_ep': 1}, {'name': 'Annie', 'no_ep': 1}, {'name': 'Antenna Morty', 'no_ep': 2}, {'name': 'Antenna Rick', 'no_ep': 1}, {'name': 'Ants in my Eyes Johnson', 'no_ep': 1}, {'name': 'Rick Sanchez', 'no_ep': 51}, {'name': 'Morty Smith', 'no_ep': 51}, {'name': 'Summer Smith', 'no_ep': 42}, {'name': 'Beth Smith', 'no_ep': 42}, {'name': 'Jerry Smith', 'no_ep': 39}, {'name': 'Abadango Cluster Princess', 'no_ep': 1}, {'name': 'Abradolf Lincler', 'no_ep': 2}, {'name': 'Adjudicator Rick', 'no_ep': 1}, {'name': 'Agency Director', 'no_ep': 1}, {'name': 'Alan Rails', 'no_ep': 1}, {'name': 'Albert Einstein', 'no_ep': 1}, {'name': 'Alexander', 'no_ep': 1}, {'name': 'Alien Googah', 'no_ep': 1}, {'name': 'Alien Morty', 'no_ep': 1}, {'name': 'Alien Rick', 'no_ep': 1}, {'name': 'Amish Cyborg', 'no_ep': 1}, {'name': 'Annie', 'no_ep': 1}, {'name': 'Antenna Morty', 'no_ep': 2}, {'name': 'Antenna Rick', 'no_ep': 1}, {'name': 'Ants in my Eyes Johnson', 'no_ep': 1}, {'name': 'Rick Sanchez', 'no_ep': 51}, {'name': 'Morty Smith', 'no_ep': 51}, {'name': 'Summer Smith', 'no_ep': 42}, {'name': 'Beth Smith', 'no_ep': 42}, {'name': 'Jerry Smith', 'no_ep': 39}, {'name': 'Abadango Cluster Princess', 'no_ep': 1}, {'name': 'Abradolf Lincler', 'no_ep': 2}, {'name': 'Adjudicator Rick', 'no_ep': 1}, {'name': 'Agency Director', 'no_ep': 1}, {'name': 'Alan Rails', 'no_ep': 1}, {'name': 'Albert Einstein', 'no_ep': 1}, {'name': 'Alexander', 'no_ep': 1}, {'name': 'Alien Googah', 'no_ep': 1}, {'name': 'Alien Morty', 'no_ep': 1}, {'name': 'Alien Rick', 'no_ep': 1}, {'name': 'Amish Cyborg', 'no_ep': 1}, {'name': 'Annie', 'no_ep': 1}, {'name': 'Antenna Morty', 'no_ep': 2}, {'name': 'Antenna Rick', 'no_ep': 1}, {'name': 'Ants in my Eyes Johnson', 'no_ep': 1}, {'name': 'Rick Sanchez', 'no_ep': 51}, {'name': 'Morty Smith', 'no_ep': 51}, {'name': 'Summer Smith', 'no_ep': 42}, {'name': 'Beth Smith', 'no_ep': 42}, {'name': 'Jerry Smith', 'no_ep': 39}, {'name': 'Abadango Cluster Princess', 'no_ep': 1}, {'name': 'Abradolf Lincler', 'no_ep': 2}, {'name': 'Adjudicator Rick', 'no_ep': 1}, {'name': 'Agency Director', 'no_ep': 1}, {'name': 'Alan Rails', 'no_ep': 1}, {'name': 'Albert Einstein', 'no_ep': 1}, {'name': 'Alexander', 'no_ep': 1}, {'name': 'Alien Googah', 'no_ep': 1}, {'name': 'Alien Morty', 'no_ep': 1}, {'name': 'Alien Rick', 'no_ep': 1}, {'name': 'Amish Cyborg', 'no_ep': 1}, {'name': 'Annie', 'no_ep': 1}, {'name': 'Antenna Morty', 'no_ep': 2}, {'name': 'Antenna Rick', 'no_ep': 1}, {'name': 'Ants in my Eyes Johnson', 'no_ep': 1}, {'name': 'Rick Sanchez', 'no_ep': 51}, {'name': 'Morty Smith', 'no_ep': 51}, {'name': 'Summer Smith', 'no_ep': 42}, {'name': 'Beth Smith', 'no_ep': 42}, {'name': 'Jerry Smith', 'no_ep': 39}, {'name': 'Abadango Cluster Princess', 'no_ep': 1}, {'name': 'Abradolf Lincler', 'no_ep': 2}, {'name': 'Adjudicator Rick', 'no_ep': 1}, {'name': 'Agency Director', 'no_ep': 1}, {'name': 'Alan Rails', 'no_ep': 1}, {'name': 'Albert Einstein', 'no_ep': 1}, {'name': 'Alexander', 'no_ep': 1}, {'name': 'Alien Googah', 'no_ep': 1}, {'name': 'Alien Morty', 'no_ep': 1}, {'name': 'Alien Rick', 'no_ep': 1}, {'name': 'Amish Cyborg', 'no_ep': 1}, {'name': 'Annie', 'no_ep': 1}, {'name': 'Antenna Morty', 'no_ep': 2}, {'name': 'Antenna Rick', 'no_ep': 1}, {'name': 'Ants in my Eyes Johnson', 'no_ep': 1}, {'name': 'Rick Sanchez', 'no_ep': 51}, {'name': 'Morty Smith', 'no_ep': 51}, {'name': 'Summer Smith', 'no_ep': 42}, {'name': 'Beth Smith', 'no_ep': 42}, {'name': 'Jerry Smith', 'no_ep': 39}, {'name': 'Abadango Cluster Princess', 'no_ep': 1}, {'name': 'Abradolf Lincler', 'no_ep': 2}, {'name': 'Adjudicator Rick', 'no_ep': 1}, {'name': 'Agency Director', 'no_ep': 1}, {'name': 'Alan Rails', 'no_ep': 1}, {'name': 'Albert Einstein', 'no_ep': 1}, {'name': 'Alexander', 'no_ep': 1}, {'name': 'Alien Googah', 'no_ep': 1}, {'name': 'Alien Morty', 'no_ep': 1}, {'name': 'Alien Rick', 'no_ep': 1}, {'name': 'Amish Cyborg', 'no_ep': 1}, {'name': 'Annie', 'no_ep': 1}, {'name': 'Antenna Morty', 'no_ep': 2}, {'name': 'Antenna Rick', 'no_ep': 1}, {'name': 'Ants in my Eyes Johnson', 'no_ep': 1}, {'name': 'Rick Sanchez', 'no_ep': 51}, {'name': 'Morty Smith', 'no_ep': 51}, {'name': 'Summer Smith', 'no_ep': 42}, {'name': 'Beth Smith', 'no_ep': 42}, {'name': 'Jerry Smith', 'no_ep': 39}, {'name': 'Abadango Cluster Princess', 'no_ep': 1}, {'name': 'Abradolf Lincler', 'no_ep': 2}, {'name': 'Adjudicator Rick', 'no_ep': 1}, {'name': 'Agency Director', 'no_ep': 1}, {'name': 'Alan Rails', 'no_ep': 1}, {'name': 'Albert Einstein', 'no_ep': 1}, {'name': 'Alexander', 'no_ep': 1}, {'name': 'Alien Googah', 'no_ep': 1}, {'name': 'Alien Morty', 'no_ep': 1}, {'name': 'Alien Rick', 'no_ep': 1}, {'name': 'Amish Cyborg', 'no_ep': 1}, {'name': 'Annie', 'no_ep': 1}, {'name': 'Antenna Morty', 'no_ep': 2}, {'name': 'Antenna Rick', 'no_ep': 1}, {'name': 'Ants in my Eyes Johnson', 'no_ep': 1}, {'name': 'Rick Sanchez', 'no_ep': 51}, {'name': 'Morty Smith', 'no_ep': 51}, {'name': 'Summer Smith', 'no_ep': 42}, {'name': 'Beth Smith', 'no_ep': 42}, {'name': 'Jerry Smith', 'no_ep': 39}, {'name': 'Abadango Cluster Princess', 'no_ep': 1}, {'name': 'Abradolf Lincler', 'no_ep': 2}, {'name': 'Adjudicator Rick', 'no_ep': 1}, {'name': 'Agency Director', 'no_ep': 1}, {'name': 'Alan Rails', 'no_ep': 1}, {'name': 'Albert Einstein', 'no_ep': 1}, {'name': 'Alexander', 'no_ep': 1}, {'name': 'Alien Googah', 'no_ep': 1}, {'name': 'Alien Morty', 'no_ep': 1}, {'name': 'Alien Rick', 'no_ep': 1}, {'name': 'Amish Cyborg', 'no_ep': 1}, {'name': 'Annie', 'no_ep': 1}, {'name': 'Antenna Morty', 'no_ep': 2}, {'name': 'Antenna Rick', 'no_ep': 1}, {'name': 'Ants in my Eyes Johnson', 'no_ep': 1}, {'name': 'Rick Sanchez', 'no_ep': 51}, {'name': 'Morty Smith', 'no_ep': 51}, {'name': 'Summer Smith', 'no_ep': 42}, {'name': 'Beth Smith', 'no_ep': 42}, {'name': 'Jerry Smith', 'no_ep': 39}, {'name': 'Abadango Cluster Princess', 'no_ep': 1}, {'name': 'Abradolf Lincler', 'no_ep': 2}, {'name': 'Adjudicator Rick', 'no_ep': 1}, {'name': 'Agency Director', 'no_ep': 1}, {'name': 'Alan Rails', 'no_ep': 1}, {'name': 'Albert Einstein', 'no_ep': 1}, {'name': 'Alexander', 'no_ep': 1}, {'name': 'Alien Googah', 'no_ep': 1}, {'name': 'Alien Morty', 'no_ep': 1}, {'name': 'Alien Rick', 'no_ep': 1}, {'name': 'Amish Cyborg', 'no_ep': 1}, {'name': 'Annie', 'no_ep': 1}, {'name': 'Antenna Morty', 'no_ep': 2}, {'name': 'Antenna Rick', 'no_ep': 1}, {'name': 'Ants in my Eyes Johnson', 'no_ep': 1}, {'name': 'Rick Sanchez', 'no_ep': 51}, {'name': 'Morty Smith', 'no_ep': 51}, {'name': 'Summer Smith', 'no_ep': 42}, {'name': 'Beth Smith', 'no_ep': 42}, {'name': 'Jerry Smith', 'no_ep': 39}, {'name': 'Abadango Cluster Princess', 'no_ep': 1}, {'name': 'Abradolf Lincler', 'no_ep': 2}, {'name': 'Adjudicator Rick', 'no_ep': 1}, {'name': 'Agency Director', 'no_ep': 1}, {'name': 'Alan Rails', 'no_ep': 1}, {'name': 'Albert Einstein', 'no_ep': 1}, {'name': 'Alexander', 'no_ep': 1}, {'name': 'Alien Googah', 'no_ep': 1}, {'name': 'Alien Morty', 'no_ep': 1}, {'name': 'Alien Rick', 'no_ep': 1}, {'name': 'Amish Cyborg', 'no_ep': 1}, {'name': 'Annie', 'no_ep': 1}, {'name': 'Antenna Morty', 'no_ep': 2}, {'name': 'Antenna Rick', 'no_ep': 1}, {'name': 'Ants in my Eyes Johnson', 'no_ep': 1}, {'name': 'Rick Sanchez', 'no_ep': 51}, {'name': 'Morty Smith', 'no_ep': 51}, {'name': 'Summer Smith', 'no_ep': 42}, {'name': 'Beth Smith', 'no_ep': 42}, {'name': 'Jerry Smith', 'no_ep': 39}, {'name': 'Abadango Cluster Princess', 'no_ep': 1}, {'name': 'Abradolf Lincler', 'no_ep': 2}, {'name': 'Adjudicator Rick', 'no_ep': 1}, {'name': 'Agency Director', 'no_ep': 1}, {'name': 'Alan Rails', 'no_ep': 1}, {'name': 'Albert Einstein', 'no_ep': 1}, {'name': 'Alexander', 'no_ep': 1}, {'name': 'Alien Googah', 'no_ep': 1}, {'name': 'Alien Morty', 'no_ep': 1}, {'name': 'Alien Rick', 'no_ep': 1}, {'name': 'Amish Cyborg', 'no_ep': 1}, {'name': 'Annie', 'no_ep': 1}, {'name': 'Antenna Morty', 'no_ep': 2}, {'name': 'Antenna Rick', 'no_ep': 1}, {'name': 'Ants in my Eyes Johnson', 'no_ep': 1}, {'name': 'Rick Sanchez', 'no_ep': 51}, {'name': 'Morty Smith', 'no_ep': 51}, {'name': 'Summer Smith', 'no_ep': 42}, {'name': 'Beth Smith', 'no_ep': 42}, {'name': 'Jerry Smith', 'no_ep': 39}, {'name': 'Abadango Cluster Princess', 'no_ep': 1}, {'name': 'Abradolf Lincler', 'no_ep': 2}, {'name': 'Adjudicator Rick', 'no_ep': 1}, {'name': 'Agency Director', 'no_ep': 1}, {'name': 'Alan Rails', 'no_ep': 1}, {'name': 'Albert Einstein', 'no_ep': 1}, {'name': 'Alexander', 'no_ep': 1}, {'name': 'Alien Googah', 'no_ep': 1}, {'name': 'Alien Morty', 'no_ep': 1}, {'name': 'Alien Rick', 'no_ep': 1}, {'name': 'Amish Cyborg', 'no_ep': 1}, {'name': 'Annie', 'no_ep': 1}, {'name': 'Antenna Morty', 'no_ep': 2}, {'name': 'Antenna Rick', 'no_ep': 1}, {'name': 'Ants in my Eyes Johnson', 'no_ep': 1}, {'name': 'Rick Sanchez', 'no_ep': 51}, {'name': 'Morty Smith', 'no_ep': 51}, {'name': 'Summer Smith', 'no_ep': 42}, {'name': 'Beth Smith', 'no_ep': 42}, {'name': 'Jerry Smith', 'no_ep': 39}, {'name': 'Abadango Cluster Princess', 'no_ep': 1}, {'name': 'Abradolf Lincler', 'no_ep': 2}, {'name': 'Adjudicator Rick', 'no_ep': 1}, {'name': 'Agency Director', 'no_ep': 1}, {'name': 'Alan Rails', 'no_ep': 1}, {'name': 'Albert Einstein', 'no_ep': 1}, {'name': 'Alexander', 'no_ep': 1}, {'name': 'Alien Googah', 'no_ep': 1}, {'name': 'Alien Morty', 'no_ep': 1}, {'name': 'Alien Rick', 'no_ep': 1}, {'name': 'Amish Cyborg', 'no_ep': 1}, {'name': 'Annie', 'no_ep': 1}, {'name': 'Antenna Morty', 'no_ep': 2}, {'name': 'Antenna Rick', 'no_ep': 1}, {'name': 'Ants in my Eyes Johnson', 'no_ep': 1}, {'name': 'Rick Sanchez', 'no_ep': 51}, {'name': 'Morty Smith', 'no_ep': 51}, {'name': 'Summer Smith', 'no_ep': 42}, {'name': 'Beth Smith', 'no_ep': 42}, {'name': 'Jerry Smith', 'no_ep': 39}, {'name': 'Abadango Cluster Princess', 'no_ep': 1}, {'name': 'Abradolf Lincler', 'no_ep': 2}, {'name': 'Adjudicator Rick', 'no_ep': 1}, {'name': 'Agency Director', 'no_ep': 1}, {'name': 'Alan Rails', 'no_ep': 1}, {'name': 'Albert Einstein', 'no_ep': 1}, {'name': 'Alexander', 'no_ep': 1}, {'name': 'Alien Googah', 'no_ep': 1}, {'name': 'Alien Morty', 'no_ep': 1}, {'name': 'Alien Rick', 'no_ep': 1}, {'name': 'Amish Cyborg', 'no_ep': 1}, {'name': 'Annie', 'no_ep': 1}, {'name': 'Antenna Morty', 'no_ep': 2}, {'name': 'Antenna Rick', 'no_ep': 1}, {'name': 'Ants in my Eyes Johnson', 'no_ep': 1}, {'name': 'Rick Sanchez', 'no_ep': 51}, {'name': 'Morty Smith', 'no_ep': 51}, {'name': 'Summer Smith', 'no_ep': 42}, {'name': 'Beth Smith', 'no_ep': 42}, {'name': 'Jerry Smith', 'no_ep': 39}, {'name': 'Abadango Cluster Princess', 'no_ep': 1}, {'name': 'Abradolf Lincler', 'no_ep': 2}, {'name': 'Adjudicator Rick', 'no_ep': 1}, {'name': 'Agency Director', 'no_ep': 1}, {'name': 'Alan Rails', 'no_ep': 1}, {'name': 'Albert Einstein', 'no_ep': 1}, {'name': 'Alexander', 'no_ep': 1}, {'name': 'Alien Googah', 'no_ep': 1}, {'name': 'Alien Morty', 'no_ep': 1}, {'name': 'Alien Rick', 'no_ep': 1}, {'name': 'Amish Cyborg', 'no_ep': 1}, {'name': 'Annie', 'no_ep': 1}, {'name': 'Antenna Morty', 'no_ep': 2}, {'name': 'Antenna Rick', 'no_ep': 1}, {'name': 'Ants in my Eyes Johnson', 'no_ep': 1}, {'name': 'Rick Sanchez', 'no_ep': 51}, {'name': 'Morty Smith', 'no_ep': 51}, {'name': 'Summer Smith', 'no_ep': 42}, {'name': 'Beth Smith', 'no_ep': 42}, {'name': 'Jerry Smith', 'no_ep': 39}, {'name': 'Abadango Cluster Princess', 'no_ep': 1}, {'name': 'Abradolf Lincler', 'no_ep': 2}, {'name': 'Adjudicator Rick', 'no_ep': 1}, {'name': 'Agency Director', 'no_ep': 1}, {'name': 'Alan Rails', 'no_ep': 1}, {'name': 'Albert Einstein', 'no_ep': 1}, {'name': 'Alexander', 'no_ep': 1}, {'name': 'Alien Googah', 'no_ep': 1}, {'name': 'Alien Morty', 'no_ep': 1}, {'name': 'Alien Rick', 'no_ep': 1}, {'name': 'Amish Cyborg', 'no_ep': 1}, {'name': 'Annie', 'no_ep': 1}, {'name': 'Antenna Morty', 'no_ep': 2}, {'name': 'Antenna Rick', 'no_ep': 1}, {'name': 'Ants in my Eyes Johnson', 'no_ep': 1}, {'name': 'Rick Sanchez', 'no_ep': 51}, {'name': 'Morty Smith', 'no_ep': 51}, {'name': 'Summer Smith', 'no_ep': 42}, {'name': 'Beth Smith', 'no_ep': 42}, {'name': 'Jerry Smith', 'no_ep': 39}, {'name': 'Abadango Cluster Princess', 'no_ep': 1}, {'name': 'Abradolf Lincler', 'no_ep': 2}, {'name': 'Adjudicator Rick', 'no_ep': 1}, {'name': 'Agency Director', 'no_ep': 1}, {'name': 'Alan Rails', 'no_ep': 1}, {'name': 'Albert Einstein', 'no_ep': 1}, {'name': 'Alexander', 'no_ep': 1}, {'name': 'Alien Googah', 'no_ep': 1}, {'name': 'Alien Morty', 'no_ep': 1}, {'name': 'Alien Rick', 'no_ep': 1}, {'name': 'Amish Cyborg', 'no_ep': 1}, {'name': 'Annie', 'no_ep': 1}, {'name': 'Antenna Morty', 'no_ep': 2}, {'name': 'Antenna Rick', 'no_ep': 1}, {'name': 'Ants in my Eyes Johnson', 'no_ep': 1}, {'name': 'Rick Sanchez', 'no_ep': 51}, {'name': 'Morty Smith', 'no_ep': 51}, {'name': 'Summer Smith', 'no_ep': 42}, {'name': 'Beth Smith', 'no_ep': 42}, {'name': 'Jerry Smith', 'no_ep': 39}, {'name': 'Abadango Cluster Princess', 'no_ep': 1}, {'name': 'Abradolf Lincler', 'no_ep': 2}, {'name': 'Adjudicator Rick', 'no_ep': 1}, {'name': 'Agency Director', 'no_ep': 1}, {'name': 'Alan Rails', 'no_ep': 1}, {'name': 'Albert Einstein', 'no_ep': 1}, {'name': 'Alexander', 'no_ep': 1}, {'name': 'Alien Googah', 'no_ep': 1}, {'name': 'Alien Morty', 'no_ep': 1}, {'name': 'Alien Rick', 'no_ep': 1}, {'name': 'Amish Cyborg', 'no_ep': 1}, {'name': 'Annie', 'no_ep': 1}, {'name': 'Antenna Morty', 'no_ep': 2}, {'name': 'Antenna Rick', 'no_ep': 1}, {'name': 'Ants in my Eyes Johnson', 'no_ep': 1}, {'name': 'Rick Sanchez', 'no_ep': 51}, {'name': 'Morty Smith', 'no_ep': 51}, {'name': 'Summer Smith', 'no_ep': 42}, {'name': 'Beth Smith', 'no_ep': 42}, {'name': 'Jerry Smith', 'no_ep': 39}, {'name': 'Abadango Cluster Princess', 'no_ep': 1}, {'name': 'Abradolf Lincler', 'no_ep': 2}, {'name': 'Adjudicator Rick', 'no_ep': 1}, {'name': 'Agency Director', 'no_ep': 1}, {'name': 'Alan Rails', 'no_ep': 1}, {'name': 'Albert Einstein', 'no_ep': 1}, {'name': 'Alexander', 'no_ep': 1}, {'name': 'Alien Googah', 'no_ep': 1}, {'name': 'Alien Morty', 'no_ep': 1}, {'name': 'Alien Rick', 'no_ep': 1}, {'name': 'Amish Cyborg', 'no_ep': 1}, {'name': 'Annie', 'no_ep': 1}, {'name': 'Antenna Morty', 'no_ep': 2}, {'name': 'Antenna Rick', 'no_ep': 1}, {'name': 'Ants in my Eyes Johnson', 'no_ep': 1}, {'name': 'Rick Sanchez', 'no_ep': 51}, {'name': 'Morty Smith', 'no_ep': 51}, {'name': 'Summer Smith', 'no_ep': 42}, {'name': 'Beth Smith', 'no_ep': 42}, {'name': 'Jerry Smith', 'no_ep': 39}, {'name': 'Abadango Cluster Princess', 'no_ep': 1}, {'name': 'Abradolf Lincler', 'no_ep': 2}, {'name': 'Adjudicator Rick', 'no_ep': 1}, {'name': 'Agency Director', 'no_ep': 1}, {'name': 'Alan Rails', 'no_ep': 1}, {'name': 'Albert Einstein', 'no_ep': 1}, {'name': 'Alexander', 'no_ep': 1}, {'name': 'Alien Googah', 'no_ep': 1}, {'name': 'Alien Morty', 'no_ep': 1}, {'name': 'Alien Rick', 'no_ep': 1}, {'name': 'Amish Cyborg', 'no_ep': 1}, {'name': 'Annie', 'no_ep': 1}, {'name': 'Antenna Morty', 'no_ep': 2}, {'name': 'Antenna Rick', 'no_ep': 1}, {'name': 'Ants in my Eyes Johnson', 'no_ep': 1}, {'name': 'Rick Sanchez', 'no_ep': 51}, {'name': 'Morty Smith', 'no_ep': 51}, {'name': 'Summer Smith', 'no_ep': 42}, {'name': 'Beth Smith', 'no_ep': 42}, {'name': 'Jerry Smith', 'no_ep': 39}, {'name': 'Abadango Cluster Princess', 'no_ep': 1}, {'name': 'Abradolf Lincler', 'no_ep': 2}, {'name': 'Adjudicator Rick', 'no_ep': 1}, {'name': 'Agency Director', 'no_ep': 1}, {'name': 'Alan Rails', 'no_ep': 1}, {'name': 'Albert Einstein', 'no_ep': 1}, {'name': 'Alexander', 'no_ep': 1}, {'name': 'Alien Googah', 'no_ep': 1}, {'name': 'Alien Morty', 'no_ep': 1}, {'name': 'Alien Rick', 'no_ep': 1}, {'name': 'Amish Cyborg', 'no_ep': 1}, {'name': 'Annie', 'no_ep': 1}, {'name': 'Antenna Morty', 'no_ep': 2}, {'name': 'Antenna Rick', 'no_ep': 1}, {'name': 'Ants in my Eyes Johnson', 'no_ep': 1}, {'name': 'Rick Sanchez', 'no_ep': 51}, {'name': 'Morty Smith', 'no_ep': 51}, {'name': 'Summer Smith', 'no_ep': 42}, {'name': 'Beth Smith', 'no_ep': 42}, {'name': 'Jerry Smith', 'no_ep': 39}, {'name': 'Abadango Cluster Princess', 'no_ep': 1}, {'name': 'Abradolf Lincler', 'no_ep': 2}, {'name': 'Adjudicator Rick', 'no_ep': 1}, {'name': 'Agency Director', 'no_ep': 1}, {'name': 'Alan Rails', 'no_ep': 1}, {'name': 'Albert Einstein', 'no_ep': 1}, {'name': 'Alexander', 'no_ep': 1}, {'name': 'Alien Googah', 'no_ep': 1}, {'name': 'Alien Morty', 'no_ep': 1}, {'name': 'Alien Rick', 'no_ep': 1}, {'name': 'Amish Cyborg', 'no_ep': 1}, {'name': 'Annie', 'no_ep': 1}, {'name': 'Antenna Morty', 'no_ep': 2}, {'name': 'Antenna Rick', 'no_ep': 1}, {'name': 'Ants in my Eyes Johnson', 'no_ep': 1}, {'name': 'Rick Sanchez', 'no_ep': 51}, {'name': 'Morty Smith', 'no_ep': 51}, {'name': 'Summer Smith', 'no_ep': 42}, {'name': 'Beth Smith', 'no_ep': 42}, {'name': 'Jerry Smith', 'no_ep': 39}, {'name': 'Abadango Cluster Princess', 'no_ep': 1}, {'name': 'Abradolf Lincler', 'no_ep': 2}, {'name': 'Adjudicator Rick', 'no_ep': 1}, {'name': 'Agency Director', 'no_ep': 1}, {'name': 'Alan Rails', 'no_ep': 1}, {'name': 'Albert Einstein', 'no_ep': 1}, {'name': 'Alexander', 'no_ep': 1}, {'name': 'Alien Googah', 'no_ep': 1}, {'name': 'Alien Morty', 'no_ep': 1}, {'name': 'Alien Rick', 'no_ep': 1}, {'name': 'Amish Cyborg', 'no_ep': 1}, {'name': 'Annie', 'no_ep': 1}, {'name': 'Antenna Morty', 'no_ep': 2}, {'name': 'Antenna Rick', 'no_ep': 1}, {'name': 'Ants in my Eyes Johnson', 'no_ep': 1}, {'name': 'Rick Sanchez', 'no_ep': 51}, {'name': 'Morty Smith', 'no_ep': 51}, {'name': 'Summer Smith', 'no_ep': 42}, {'name': 'Beth Smith', 'no_ep': 42}, {'name': 'Jerry Smith', 'no_ep': 39}, {'name': 'Abadango Cluster Princess', 'no_ep': 1}, {'name': 'Abradolf Lincler', 'no_ep': 2}, {'name': 'Adjudicator Rick', 'no_ep': 1}, {'name': 'Agency Director', 'no_ep': 1}, {'name': 'Alan Rails', 'no_ep': 1}, {'name': 'Albert Einstein', 'no_ep': 1}, {'name': 'Alexander', 'no_ep': 1}, {'name': 'Alien Googah', 'no_ep': 1}, {'name': 'Alien Morty', 'no_ep': 1}, {'name': 'Alien Rick', 'no_ep': 1}, {'name': 'Amish Cyborg', 'no_ep': 1}, {'name': 'Annie', 'no_ep': 1}, {'name': 'Antenna Morty', 'no_ep': 2}, {'name': 'Antenna Rick', 'no_ep': 1}, {'name': 'Ants in my Eyes Johnson', 'no_ep': 1}, {'name': 'Rick Sanchez', 'no_ep': 51}, {'name': 'Morty Smith', 'no_ep': 51}, {'name': 'Summer Smith', 'no_ep': 42}, {'name': 'Beth Smith', 'no_ep': 42}, {'name': 'Jerry Smith', 'no_ep': 39}, {'name': 'Abadango Cluster Princess', 'no_ep': 1}, {'name': 'Abradolf Lincler', 'no_ep': 2}, {'name': 'Adjudicator Rick', 'no_ep': 1}, {'name': 'Agency Director', 'no_ep': 1}, {'name': 'Alan Rails', 'no_ep': 1}, {'name': 'Albert Einstein', 'no_ep': 1}, {'name': 'Alexander', 'no_ep': 1}, {'name': 'Alien Googah', 'no_ep': 1}, {'name': 'Alien Morty', 'no_ep': 1}, {'name': 'Alien Rick', 'no_ep': 1}, {'name': 'Amish Cyborg', 'no_ep': 1}, {'name': 'Annie', 'no_ep': 1}, {'name': 'Antenna Morty', 'no_ep': 2}, {'name': 'Antenna Rick', 'no_ep': 1}, {'name': 'Ants in my Eyes Johnson', 'no_ep': 1}]\n"
     ]
    }
   ],
   "source": [
    "main_list=[]\n",
    "data=main_request(baseurl , endpoint,1)\n",
    "for x in range(1, get_pages(data)+1):\n",
    "    print(x)\n",
    "    main_list.extend(parse_json(data))\n",
    "\n",
    "print(main_list)\n",
    "    "
   ]
  },
  {
   "cell_type": "code",
   "execution_count": 79,
   "id": "e3af2db9-cd49-4529-b6a4-4e7f013068f1",
   "metadata": {},
   "outputs": [
    {
     "name": "stdout",
     "output_type": "stream",
     "text": [
      "840\n"
     ]
    }
   ],
   "source": [
    "print(len(main_list))"
   ]
  },
  {
   "cell_type": "code",
   "execution_count": 81,
   "id": "1e32357c-057c-4d48-9e30-f5dfa6dfa04d",
   "metadata": {},
   "outputs": [
    {
     "name": "stdout",
     "output_type": "stream",
     "text": [
      "           name  no_ep\n",
      "0  Rick Sanchez     51\n",
      "1   Morty Smith     51\n",
      "2  Summer Smith     42\n",
      "3    Beth Smith     42\n",
      "4   Jerry Smith     39\n",
      "                        name  no_ep\n",
      "835             Amish Cyborg      1\n",
      "836                    Annie      1\n",
      "837            Antenna Morty      2\n",
      "838             Antenna Rick      1\n",
      "839  Ants in my Eyes Johnson      1\n"
     ]
    }
   ],
   "source": [
    "import pandas as pd\n",
    "df=pd.DataFrame(main_list)\n",
    "print(df.head())\n",
    "print(df.tail())"
   ]
  },
  {
   "cell_type": "code",
   "execution_count": null,
   "id": "467ef841-7e4c-4a99-b8d2-19c3975c130b",
   "metadata": {},
   "outputs": [],
   "source": [
    "df.to_csv('charlist.csv', index=False)"
   ]
  },
  {
   "cell_type": "code",
   "execution_count": null,
   "id": "ec3fafc4-93d9-4835-8753-8eca5f87f902",
   "metadata": {},
   "outputs": [],
   "source": [
    "pages=get_page"
   ]
  }
 ],
 "metadata": {
  "kernelspec": {
   "display_name": "Python [conda env:base] *",
   "language": "python",
   "name": "conda-base-py"
  },
  "language_info": {
   "codemirror_mode": {
    "name": "ipython",
    "version": 3
   },
   "file_extension": ".py",
   "mimetype": "text/x-python",
   "name": "python",
   "nbconvert_exporter": "python",
   "pygments_lexer": "ipython3",
   "version": "3.12.7"
  }
 },
 "nbformat": 4,
 "nbformat_minor": 5
}
