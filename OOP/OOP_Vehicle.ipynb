{
 "cells": [
  {
   "cell_type": "markdown",
   "id": "9d354ea4-02c7-4c03-b1ff-79c7d9697a1d",
   "metadata": {},
   "source": [
    "# Object Oriented Programming"
   ]
  },
  {
   "cell_type": "markdown",
   "id": "fe341dfd-9de6-401a-b784-1c300632fc97",
   "metadata": {},
   "source": [
    "### Creating a class"
   ]
  },
  {
   "cell_type": "code",
   "execution_count": 3,
   "id": "42d00bf7-9263-4811-986d-9da0ee5fd7ce",
   "metadata": {},
   "outputs": [],
   "source": [
    "class Vehicle:\n",
    "    def __init__(self, make, model):\n",
    "        self.make = make\n",
    "        self.model = model\n",
    "\n",
    "    def moves(self):\n",
    "        print('I Move along..')\n",
    "\n",
    "    def get_make_model(self):\n",
    "        print(f\"I'm a {self.make} {self.model}.\")\n"
   ]
  },
  {
   "cell_type": "markdown",
   "id": "3d106cb8-f9b4-4eb9-9328-46866c4923b7",
   "metadata": {},
   "source": [
    "### Creating instances from the class (Vehicle)"
   ]
  },
  {
   "cell_type": "code",
   "execution_count": 5,
   "id": "b9038b59-74af-47f0-9482-4f6bae08ac2e",
   "metadata": {},
   "outputs": [
    {
     "name": "stdout",
     "output_type": "stream",
     "text": [
      "I'm a Tesla Model 3.\n",
      "I Move along..\n"
     ]
    }
   ],
   "source": [
    "my_car = Vehicle('Tesla', 'Model 3')\n",
    "\n",
    "# print(my_car.make)\n",
    "# print(my_car.model)\n",
    "my_car.get_make_model()\n",
    "my_car.moves()"
   ]
  },
  {
   "cell_type": "code",
   "execution_count": 7,
   "id": "ae23b431-39a0-4b3b-a0b6-3b4f3d72eaa8",
   "metadata": {},
   "outputs": [
    {
     "name": "stdout",
     "output_type": "stream",
     "text": [
      "I'm a Cadillac Escalade.\n",
      "I Move along..\n"
     ]
    }
   ],
   "source": [
    "your_car = Vehicle('Cadillac', 'Escalade')\n",
    "your_car.get_make_model()\n",
    "your_car.moves()"
   ]
  },
  {
   "cell_type": "markdown",
   "id": "b28b79fc-11d7-4f01-8dba-592f5a471b26",
   "metadata": {},
   "source": [
    "## Inheritance: creating derived (children) classes from the base (parent) class (Vehicle)"
   ]
  },
  {
   "cell_type": "code",
   "execution_count": null,
   "id": "726abe60-576e-4ef1-a68b-ff738d3674ec",
   "metadata": {},
   "outputs": [],
   "source": [
    "class Airplane(Vehicle):\n",
    "    def __init__(self, make, model, faa_id):\n",
    "        super().__init__(make, model)\n",
    "        self.faa_id = faa_id\n",
    "\n",
    "    def moves(self):\n",
    "        print('I Fly along..')\n",
    "\n",
    "\n",
    "class Truck(Vehicle):\n",
    "    def moves(self):\n",
    "        print('I Rumble along..')\n",
    "\n",
    "\n",
    "class GolfCart(Vehicle):\n",
    "    pass\n"
   ]
  },
  {
   "cell_type": "markdown",
   "id": "c0ac5c40-c826-41fb-ac67-43219addd4bc",
   "metadata": {},
   "source": [
    "### Creating instances from the children classes"
   ]
  },
  {
   "cell_type": "code",
   "execution_count": null,
   "id": "dcb8a351-344f-423f-81cf-515d2be86a3c",
   "metadata": {},
   "outputs": [],
   "source": [
    "cessna = Airplane('Cessna', 'Skyhawk', 'N-12345')\n",
    "mack = Truck('Mack', 'Pinnacle')\n",
    "golfwagon = GolfCart('Yamaha', 'GC100')\n",
    "\n",
    "cessna.get_make_model()\n",
    "cessna.moves()\n",
    "mack.get_make_model()\n",
    "mack.moves()\n",
    "golfwagon.get_make_model()\n",
    "golfwagon.moves()"
   ]
  },
  {
   "cell_type": "markdown",
   "id": "b60865b4-78ad-49b1-888f-54f3341c1697",
   "metadata": {},
   "source": [
    "### Example of Polymorphism "
   ]
  },
  {
   "cell_type": "code",
   "execution_count": null,
   "id": "3b59db80-4dfc-4254-9440-ffe7a492fb75",
   "metadata": {},
   "outputs": [],
   "source": [
    "for v in (my_car, your_car, cessna, mack, golfwagon):\n",
    "    v.get_make_model()\n",
    "    v.moves()"
   ]
  },
  {
   "cell_type": "code",
   "execution_count": null,
   "id": "eab43299-73ad-4236-86bb-19cf1247fcc7",
   "metadata": {},
   "outputs": [],
   "source": [
    "my_car.get_make_model()\n",
    "my_car.moves()"
   ]
  },
  {
   "cell_type": "code",
   "execution_count": null,
   "id": "38f36bc7-b942-49da-a2e9-fa701781531b",
   "metadata": {},
   "outputs": [],
   "source": [
    "your_car.get_make_model()\n",
    "your_car.moves()"
   ]
  },
  {
   "cell_type": "code",
   "execution_count": null,
   "id": "166ae42a-6bb0-4f9e-94bc-4ad5108940b5",
   "metadata": {},
   "outputs": [],
   "source": [
    "cessna.get_make_model()\n",
    "cessna.moves()"
   ]
  },
  {
   "cell_type": "code",
   "execution_count": null,
   "id": "d681c71c-d67e-4a0c-abfd-e2ef7092fef0",
   "metadata": {},
   "outputs": [],
   "source": [
    "mack.get_make_model()\n",
    "mack.moves()"
   ]
  },
  {
   "cell_type": "code",
   "execution_count": null,
   "id": "729ddac3-3562-4fea-b53d-58f11e00a744",
   "metadata": {},
   "outputs": [],
   "source": [
    "golfwagon.get_make_model()\n",
    "golfwagon.moves()\n"
   ]
  },
  {
   "cell_type": "code",
   "execution_count": null,
   "id": "8d2374c5-f8b0-4e0c-9948-dfdda5bc102d",
   "metadata": {},
   "outputs": [],
   "source": []
  }
 ],
 "metadata": {
  "kernelspec": {
   "display_name": "Python [conda env:base] *",
   "language": "python",
   "name": "conda-base-py"
  },
  "language_info": {
   "codemirror_mode": {
    "name": "ipython",
    "version": 3
   },
   "file_extension": ".py",
   "mimetype": "text/x-python",
   "name": "python",
   "nbconvert_exporter": "python",
   "pygments_lexer": "ipython3",
   "version": "3.12.7"
  }
 },
 "nbformat": 4,
 "nbformat_minor": 5
}
